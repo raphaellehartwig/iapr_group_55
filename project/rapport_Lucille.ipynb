{
 "cells": [
  {
   "cell_type": "markdown",
   "metadata": {},
   "source": [
    "# Coin Detection Challenge - Image Analysis and Pattern Recognition - 2024\n",
    "Lucille Niederhauser - Meriam Bouguecha - Raphaëlle Hartwig - Group 55\n"
   ]
  },
  {
   "cell_type": "markdown",
   "source": [
    "The goal of this project was to build an automatic system that can identify swiss franc and euro coins on an image with various backgrounds. To do so, we tackled the following tasks:\n",
    "1. Background detection\n",
    "2. Segmentation of coins for each background (neutral, noisy, hand)\n",
    "3. Classifying single coins into CHF, EUR or OOD\n",
    "4. Classifying CHF into their exact values\n",
    "5. Classifying EUR into their exact values"
   ],
   "metadata": {
    "collapsed": false
   }
  },
  {
   "cell_type": "code",
   "execution_count": 48,
   "outputs": [
    {
     "name": "stdout",
     "output_type": "stream",
     "text": [
      "The autoreload extension is already loaded. To reload it, use:\n",
      "  %reload_ext autoreload\n"
     ]
    }
   ],
   "source": [
    "# Import main packages & files\n",
    "import matplotlib.pyplot as plt\n",
    "from skimage import io\n",
    "from PIL import Image\n",
    "import numpy as np\n",
    "import seaborn as sns\n",
    "import cv2\n",
    "import os\n",
    "import random\n",
    "\n",
    "from utils import *\n",
    "from classify_background import *\n",
    "from segmentation import *\n",
    "from classification import *\n",
    "\n",
    "%load_ext autoreload\n",
    "%autoreload 2"
   ],
   "metadata": {
    "collapsed": false
   }
  },
  {
   "cell_type": "markdown",
   "source": [
    "The cell below defines the directory used in this project. The provided dataset should be located in the original_train_path and original_test_path for train and test images respectively. Additionally, the following directories need to be created and will be used to stored preprocessed data:\n",
    "- './preprocessed_data/downsampled/train/'\n",
    "- './preprocessed_data/downsampled/test/'\n",
    "- './data/cropped/train/'"
   ],
   "metadata": {
    "collapsed": false
   }
  },
  {
   "cell_type": "code",
   "execution_count": 10,
   "outputs": [],
   "source": [
    "# define paths used\n",
    "original_train_path = './data/train/'\n",
    "original_test_path = './data/test/'\n",
    "train_path = './preprocessed_data/downsampled/train/'\n",
    "test_path = './preprocessed_data/downsampled/test/'\n",
    "cropped_path = './data/cropped/train/'"
   ],
   "metadata": {
    "collapsed": false
   }
  },
  {
   "cell_type": "code",
   "execution_count": 11,
   "outputs": [],
   "source": [
    "# set the seeds for reproducibility\n",
    "torch.manual_seed(42)\n",
    "random.seed(42)\n",
    "np.random.seed(42)"
   ],
   "metadata": {
    "collapsed": false
   }
  },
  {
   "cell_type": "markdown",
   "source": [
    "# 1. Background Detection\n",
    "When starting to explore segmentation techniques, we quickly realised that it would be complicated to find one segmentation technique that is able to correctly indentify coins on all three backgrounds. We therefore decided to first create a function that given any image could find if the background was neutral, noisy or hand."
   ],
   "metadata": {
    "collapsed": false
   }
  },
  {
   "cell_type": "markdown",
   "source": [
    "# 2. Coins Segmentation\n",
    "Once we were able to detect the background, we developped three segmentation function for each background type. However, before doing so we decided to downsample our images because the original images are big and thus any processing of them takes a lot of time."
   ],
   "metadata": {
    "collapsed": false
   }
  },
  {
   "cell_type": "code",
   "execution_count": 12,
   "outputs": [
    {
     "ename": "KeyboardInterrupt",
     "evalue": "",
     "output_type": "error",
     "traceback": [
      "\u001B[1;31m---------------------------------------------------------------------------\u001B[0m",
      "\u001B[1;31mKeyboardInterrupt\u001B[0m                         Traceback (most recent call last)",
      "Cell \u001B[1;32mIn[12], line 1\u001B[0m\n\u001B[1;32m----> 1\u001B[0m \u001B[43mdownsample_images\u001B[49m\u001B[43m(\u001B[49m\u001B[43moriginal_train_path\u001B[49m\u001B[43m,\u001B[49m\u001B[43m \u001B[49m\u001B[43mtrain_path\u001B[49m\u001B[43m)\u001B[49m\n\u001B[0;32m      2\u001B[0m downsample_images(original_test_path, test_path)\n",
      "File \u001B[1;32m~\\OneDrive\\Documents\\EPFL\\MA4\\pattern_recognition\\iapr_group_55\\project\\utils.py:15\u001B[0m, in \u001B[0;36mdownsample_images\u001B[1;34m(original_path, save_path, size)\u001B[0m\n\u001B[0;32m     13\u001B[0m file_path \u001B[38;5;241m=\u001B[39m os\u001B[38;5;241m.\u001B[39mpath\u001B[38;5;241m.\u001B[39mjoin(root, file)\n\u001B[0;32m     14\u001B[0m im \u001B[38;5;241m=\u001B[39m Image\u001B[38;5;241m.\u001B[39mopen(file_path)\n\u001B[1;32m---> 15\u001B[0m downsampled_image \u001B[38;5;241m=\u001B[39m \u001B[43mim\u001B[49m\u001B[38;5;241;43m.\u001B[39;49m\u001B[43mresize\u001B[49m\u001B[43m(\u001B[49m\u001B[43msize\u001B[49m\u001B[43m)\u001B[49m  \u001B[38;5;66;03m# Specify desired width and height\u001B[39;00m\n\u001B[0;32m     16\u001B[0m \u001B[38;5;66;03m# Save the downsampled image\u001B[39;00m\n\u001B[0;32m     17\u001B[0m downsampled_image_save_path \u001B[38;5;241m=\u001B[39m os\u001B[38;5;241m.\u001B[39mpath\u001B[38;5;241m.\u001B[39mjoin(save_path, file)\n",
      "File \u001B[1;32m~\\anaconda3\\envs\\iapr\\lib\\site-packages\\PIL\\Image.py:2164\u001B[0m, in \u001B[0;36mImage.resize\u001B[1;34m(self, size, resample, box, reducing_gap)\u001B[0m\n\u001B[0;32m   2160\u001B[0m     \u001B[38;5;28;01mraise\u001B[39;00m \u001B[38;5;167;01mValueError\u001B[39;00m(msg)\n\u001B[0;32m   2162\u001B[0m size \u001B[38;5;241m=\u001B[39m \u001B[38;5;28mtuple\u001B[39m(size)\n\u001B[1;32m-> 2164\u001B[0m \u001B[38;5;28;43mself\u001B[39;49m\u001B[38;5;241;43m.\u001B[39;49m\u001B[43mload\u001B[49m\u001B[43m(\u001B[49m\u001B[43m)\u001B[49m\n\u001B[0;32m   2165\u001B[0m \u001B[38;5;28;01mif\u001B[39;00m box \u001B[38;5;129;01mis\u001B[39;00m \u001B[38;5;28;01mNone\u001B[39;00m:\n\u001B[0;32m   2166\u001B[0m     box \u001B[38;5;241m=\u001B[39m (\u001B[38;5;241m0\u001B[39m, \u001B[38;5;241m0\u001B[39m) \u001B[38;5;241m+\u001B[39m \u001B[38;5;28mself\u001B[39m\u001B[38;5;241m.\u001B[39msize\n",
      "File \u001B[1;32m~\\anaconda3\\envs\\iapr\\lib\\site-packages\\PIL\\ImageFile.py:291\u001B[0m, in \u001B[0;36mImageFile.load\u001B[1;34m(self)\u001B[0m\n\u001B[0;32m    288\u001B[0m         \u001B[38;5;28;01mraise\u001B[39;00m \u001B[38;5;167;01mOSError\u001B[39;00m(msg)\n\u001B[0;32m    290\u001B[0m b \u001B[38;5;241m=\u001B[39m b \u001B[38;5;241m+\u001B[39m s\n\u001B[1;32m--> 291\u001B[0m n, err_code \u001B[38;5;241m=\u001B[39m \u001B[43mdecoder\u001B[49m\u001B[38;5;241;43m.\u001B[39;49m\u001B[43mdecode\u001B[49m\u001B[43m(\u001B[49m\u001B[43mb\u001B[49m\u001B[43m)\u001B[49m\n\u001B[0;32m    292\u001B[0m \u001B[38;5;28;01mif\u001B[39;00m n \u001B[38;5;241m<\u001B[39m \u001B[38;5;241m0\u001B[39m:\n\u001B[0;32m    293\u001B[0m     \u001B[38;5;28;01mbreak\u001B[39;00m\n",
      "\u001B[1;31mKeyboardInterrupt\u001B[0m: "
     ]
    }
   ],
   "source": [
    "downsample_images(original_train_path, train_path)\n",
    "downsample_images(original_test_path, test_path)"
   ],
   "metadata": {
    "collapsed": false
   }
  },
  {
   "cell_type": "markdown",
   "source": [
    "The above functions take all the images in the original train and test set, downsamples them by 4 and saves them. This allowed us to gain computational time."
   ],
   "metadata": {
    "collapsed": false
   }
  },
  {
   "cell_type": "markdown",
   "source": [
    "# 3. CHF/EUR/OOD Classifier\n",
    "Once our segmentation functions were done, we detected all the coins on each image of the train set and saved the images of the cropped coins into a specific folder."
   ],
   "metadata": {
    "collapsed": false
   }
  },
  {
   "cell_type": "code",
   "execution_count": 16,
   "outputs": [],
   "source": [
    "_ = crop_whole_directory(train_path, cropped_path, 'neutral', save=False)\n",
    "_ = crop_whole_directory(train_path, cropped_path, 'noisy', save=False)\n",
    "_ = crop_whole_directory(train_path, cropped_path, 'hand', save=False)"
   ],
   "metadata": {
    "collapsed": false
   }
  },
  {
   "cell_type": "markdown",
   "source": [
    "Our original reasoning was that if we knew a coin was a CHF, we would be able to find its exact value with its perimeter since all coins have different sizes and the images were always taken from the same distance. Similary, if we knew a coin was an euro, we would be able to find its exact value with its perimeter and its color. We thus thought that, as a first step we would build a supervised classifier that takes a coin as an input and detects if it's a CHF, an EUR or an OOD. This method had the advantage of not fully using deep learning and thus being less computationally demanding and to have an easier and less time consuming labelling task. Indeed labelling whether a coin is a CHF, an EUR or an OOD is quicker than labelling the exact value of each coin.\n",
    "\n",
    "So at this stage of the process, we labelled each coin present in our \"cropped\" directory with a label indicating its currency. The cell below loads these labels."
   ],
   "metadata": {
    "collapsed": false
   }
  },
  {
   "cell_type": "code",
   "execution_count": null,
   "outputs": [],
   "source": [
    "currency_labels = pd.read_csv('./data/CHF_EUR_OOD_labels.csv', sep=';', index_col=0)\n",
    "currency_labels"
   ],
   "metadata": {
    "collapsed": false
   }
  },
  {
   "cell_type": "markdown",
   "source": [
    "For the classifier, we decided to use a deep learning model, since finding features ourselves to classify the coins would be too complicated. We decided to use a pre-trained model since building our own model would be less likely to outperform a pre-trained model. We decided to first try to used alexnet since it fit the size requirements for this project. We first try to only optimise the classification layer of our model, however this did not lead to very good f1-score, so we decided to optimize all the weights of the pre-trained model.\n",
    "\n",
    "The code below loads our dataset of cropped images and train a 3-label classifier on it. We do a simple pre-processing before passing our images into our model. We resize the images so that they match the model input size and normalize them using means and standard deviation from the imagenet1k dataset on which the model was pre-trained."
   ],
   "metadata": {
    "collapsed": false
   }
  },
  {
   "cell_type": "code",
   "execution_count": null,
   "outputs": [],
   "source": [
    "preprocess = transforms.Compose([\n",
    "    transforms.ToPILImage(),\n",
    "    transforms.Resize((224, 224)),\n",
    "    transforms.ToTensor(),\n",
    "    transforms.Normalize(mean=[0.485, 0.456, 0.406], std=[0.229, 0.224, 0.225]) # Normalize pixel values, based on imagenet\n",
    "])"
   ],
   "metadata": {
    "collapsed": false
   }
  },
  {
   "cell_type": "code",
   "execution_count": null,
   "outputs": [],
   "source": [
    "train_images = []\n",
    "labels_list = [] # create a list of labels that are in the same order as the train images\n",
    "for root, dirs, files in os.walk(cropped_path):\n",
    "    for file in files:\n",
    "        # construct path to the image file\n",
    "        file_path = os.path.join(root, file)\n",
    "        im = cv2.imread(file_path, cv2.IMREAD_COLOR)\n",
    "        if im is not None:\n",
    "            img_id = file[:-4]\n",
    "            label = currency_labels.loc[int(img_id)].values\n",
    "            temp = preprocess(im).unsqueeze(0)\n",
    "            temp = temp.reshape([3, 224, 224])\n",
    "            train_images.append(temp)\n",
    "            labels_list.append(torch.tensor(label))"
   ],
   "metadata": {
    "collapsed": false
   }
  },
  {
   "cell_type": "code",
   "execution_count": null,
   "outputs": [],
   "source": [
    "# create train and validation datasets\n",
    "data = TensorDataset(torch.tensor(np.array(labels_list), dtype=torch.float32), torch.tensor(np.array(train_images)))\n",
    "train_size = int(0.75 * len(data))\n",
    "val_size = len(data) - train_size\n",
    "train_dataset, val_dataset = torch.utils.data.random_split(data, [train_size, val_size])"
   ],
   "metadata": {
    "collapsed": false
   }
  },
  {
   "cell_type": "code",
   "execution_count": null,
   "outputs": [],
   "source": [
    "model = torchvision.models.alexnet(weights='IMAGENET1K_V1')\n",
    "\n",
    "# replace last layer by classifier with 3 outputs (all possible labels)\n",
    "num_ftrs = model.classifier[-1].in_features\n",
    "model.classifier[-1] = nn.Linear(num_ftrs, 3)\n",
    "\n",
    "model = model.to(device)\n",
    "criterion = nn.CrossEntropyLoss()\n",
    "optimizer_conv = optim.SGD(model.classifier.parameters(), lr=0.002, momentum=0.9)\n",
    "# Decay LR by a factor of 0.1 every 7 epochs\n",
    "exp_lr_scheduler = lr_scheduler.StepLR(optimizer_conv, step_size=7, gamma=0.1)\n",
    "\n",
    "model, train_losses, val_losses, train_acc, val_acc, train_f1, val_f1, preds = \\\n",
    "    train_model(model, criterion, optimizer_conv, exp_lr_scheduler, train_dataset, val_dataset, device, num_epochs=21, batch_size=6)"
   ],
   "metadata": {
    "collapsed": false
   }
  },
  {
   "cell_type": "markdown",
   "source": [
    "Our train function saves the model at the best epoch, allowing us to use early-stopping in order not to overfit the training set. After trying a few different learning rates, we found that 0.002 gave us an F1-score of 97% on our validation set after epoch 11. Since alexnet gave us good results and did not require too much training time (between 5-10 minutes on our machine), we decided to not test other pre-trained models. Similarly, having reached a F1-score of 97% we decided to not further optimize the hyperparameters."
   ],
   "metadata": {
    "collapsed": false
   }
  },
  {
   "cell_type": "markdown",
   "source": [
    "We plotted the losses, accuracies andn F1-score of our model to make sure that they were all behaving as expected and thus that our model would perform as expected."
   ],
   "metadata": {
    "collapsed": false
   }
  },
  {
   "cell_type": "code",
   "execution_count": null,
   "outputs": [],
   "source": [
    "plot_metric(train_losses, val_losses, 'Training and Validation Loss', 'Loss')\n",
    "plot_metric(train_acc, val_acc, 'Training and Validation Accuracy', 'Accuracy')\n",
    "plot_metric(train_f1, val_f1, 'Training and Validation F1-Score', 'F1-score')"
   ],
   "metadata": {
    "collapsed": false
   }
  },
  {
   "cell_type": "markdown",
   "source": [
    "Finally, we made sure that our model was under 400MB. It is 226MB so follows the project requirements. We also saved the model so that we do not need to run the training again."
   ],
   "metadata": {
    "collapsed": false
   }
  },
  {
   "cell_type": "code",
   "execution_count": null,
   "outputs": [],
   "source": [
    "summary(model, train_dataset[0][1].shape)"
   ],
   "metadata": {
    "collapsed": false
   }
  },
  {
   "cell_type": "code",
   "execution_count": null,
   "outputs": [],
   "source": [
    "torch.save(model.state_dict(), './models/classifier_class3_b6_lr5e4_step7_epoch17_split0.75')"
   ],
   "metadata": {
    "collapsed": false
   }
  },
  {
   "cell_type": "markdown",
   "source": [
    "# 4. CHF Classifier\n",
    "As mentioned previously, we thought that we could classify francs without a deep learning model, solely relying on the size of the coins and the color. To do so, we first created a function that is capable of detecting a circle on a cropped image. We decided not to use the functions we created for segmentation since the size of the circle it detects varies depending on the background. We thus made a simpler function, without morphological operations that is able to detect a circle on a cropped image. We extracted the circles for the coins of a few training images. We then computed the perimeter and areas of the coins, as well as the mean hue, saturation, value, red, green and blue for the center of each image. We only took the color of the center of the image, to get the color of the coin and so that it is not influenced by the background. We then plotted them to see if we could find any threshold that could separate the classes."
   ],
   "metadata": {
    "collapsed": false
   }
  },
  {
   "cell_type": "code",
   "execution_count": 81,
   "outputs": [
    {
     "data": {
      "text/plain": "            Perimeter          Area        H         S         V         R  \\\ntwo        515.221195  21124.069003  17.9748   64.3604  153.9360  153.9360   \ntwo        502.654825  20106.192983  17.6440   73.4500  176.1452  176.1452   \none        408.407045  13273.228961  18.1124   70.9752  169.6408  169.6408   \nfifty      339.292007   9160.884178  17.8476   71.9400  165.8748  165.8748   \nfifty      345.575192   9503.317777  18.1300   76.6976  176.5544  176.5544   \nfive       571.769863  26015.528764  16.8780   77.6480  174.9464  174.9464   \ntwo        508.938010  20611.989400  17.7968   75.3344  173.8328  173.8328   \none        433.539786  14957.122624  17.9028   81.0052  185.5084  185.5084   \nfive_cent  320.442451   8171.282492  19.7872  146.6052  196.2312  196.2312   \nfive_cent  326.725636   8494.866535  19.3772  138.4072  184.4044  184.4044   \nten        364.424748  10568.317687  17.5808   71.6992  165.9324  165.9324   \nfive_cent  320.442451   8171.282492  19.4036  145.6868  194.3600  194.3600   \ntwo        490.088454  19113.449704  18.8264  123.8864  211.8836  211.8836   \nfifty      314.159265   7853.981634  18.2156  128.1328  196.0200  196.0200   \none        383.274304  11689.866264  18.7412  121.7496  210.5720  210.5720   \ntwo        490.088454  19113.449704  18.9204  122.2252  212.5980  212.5980   \none        402.123860  12867.963509  18.0448  133.6252  206.9828  206.9828   \nten        339.292007   9160.884178  18.6268  126.9088  211.2196  211.2196   \nfive       578.053048  26590.440220  18.6732  135.2628  213.8048  213.8048   \nfive       565.486678  25446.900494  18.5728  130.0684  211.6360  211.6360   \ntwenty     370.707933  10935.884027  19.4184   79.9104  205.8048  205.8048   \none        414.690230  13684.777599  20.4864   57.6576  203.7348  203.7348   \nfive_cent  320.442451   8171.282492  18.5208  160.4784  147.8836  147.8836   \none        439.822972  15393.804003  19.1520   28.4220  213.5940  213.5940   \none        420.973416  14102.609422  20.0312   24.4556  201.5112  201.5112   \none        402.123860  12867.963509  18.2652   59.3060  174.9740  174.9740   \nfifty      345.575192   9503.317777  17.9664   76.3204  189.3504  189.3504   \nten        333.008821   8824.733764  18.3640   34.0340  218.6488  218.6488   \nten        333.008821   8824.733764  18.3640   34.0340  218.6488  218.6488   \n\n                  G         B  \ntwo        138.6460  115.4244  \ntwo        155.6012  125.6632  \none        151.1980  122.6912  \nfifty      147.1796  119.3860  \nfifty      156.0636  123.9000  \nfive       151.9276  121.8348  \ntwo        153.3080  122.7580  \none        161.9360  126.6616  \nfive_cent  158.5380   85.5464  \nfive_cent  149.1276   84.7772  \nten        147.1384  119.8320  \nfive_cent  155.1072   83.7904  \ntwo        173.6152  109.2204  \nfifty      157.6900   98.5848  \none        173.2736  111.2744  \ntwo        175.1812  110.9960  \none        163.5916   98.7180  \nten        171.8620  106.4832  \nfive       170.7464  100.5048  \nfive       170.7128  103.9244  \ntwenty     183.2296  141.6432  \none        189.1588  157.8308  \nfive_cent  112.7148   55.9904  \none        204.9404  189.8256  \none        194.8512  182.1996  \none        159.3508  134.8292  \nfifty      166.9968  132.8840  \nten        207.4160  189.6656  \nten        207.4160  189.6656  ",
      "text/html": "<div>\n<style scoped>\n    .dataframe tbody tr th:only-of-type {\n        vertical-align: middle;\n    }\n\n    .dataframe tbody tr th {\n        vertical-align: top;\n    }\n\n    .dataframe thead th {\n        text-align: right;\n    }\n</style>\n<table border=\"1\" class=\"dataframe\">\n  <thead>\n    <tr style=\"text-align: right;\">\n      <th></th>\n      <th>Perimeter</th>\n      <th>Area</th>\n      <th>H</th>\n      <th>S</th>\n      <th>V</th>\n      <th>R</th>\n      <th>G</th>\n      <th>B</th>\n    </tr>\n  </thead>\n  <tbody>\n    <tr>\n      <th>two</th>\n      <td>515.221195</td>\n      <td>21124.069003</td>\n      <td>17.9748</td>\n      <td>64.3604</td>\n      <td>153.9360</td>\n      <td>153.9360</td>\n      <td>138.6460</td>\n      <td>115.4244</td>\n    </tr>\n    <tr>\n      <th>two</th>\n      <td>502.654825</td>\n      <td>20106.192983</td>\n      <td>17.6440</td>\n      <td>73.4500</td>\n      <td>176.1452</td>\n      <td>176.1452</td>\n      <td>155.6012</td>\n      <td>125.6632</td>\n    </tr>\n    <tr>\n      <th>one</th>\n      <td>408.407045</td>\n      <td>13273.228961</td>\n      <td>18.1124</td>\n      <td>70.9752</td>\n      <td>169.6408</td>\n      <td>169.6408</td>\n      <td>151.1980</td>\n      <td>122.6912</td>\n    </tr>\n    <tr>\n      <th>fifty</th>\n      <td>339.292007</td>\n      <td>9160.884178</td>\n      <td>17.8476</td>\n      <td>71.9400</td>\n      <td>165.8748</td>\n      <td>165.8748</td>\n      <td>147.1796</td>\n      <td>119.3860</td>\n    </tr>\n    <tr>\n      <th>fifty</th>\n      <td>345.575192</td>\n      <td>9503.317777</td>\n      <td>18.1300</td>\n      <td>76.6976</td>\n      <td>176.5544</td>\n      <td>176.5544</td>\n      <td>156.0636</td>\n      <td>123.9000</td>\n    </tr>\n    <tr>\n      <th>five</th>\n      <td>571.769863</td>\n      <td>26015.528764</td>\n      <td>16.8780</td>\n      <td>77.6480</td>\n      <td>174.9464</td>\n      <td>174.9464</td>\n      <td>151.9276</td>\n      <td>121.8348</td>\n    </tr>\n    <tr>\n      <th>two</th>\n      <td>508.938010</td>\n      <td>20611.989400</td>\n      <td>17.7968</td>\n      <td>75.3344</td>\n      <td>173.8328</td>\n      <td>173.8328</td>\n      <td>153.3080</td>\n      <td>122.7580</td>\n    </tr>\n    <tr>\n      <th>one</th>\n      <td>433.539786</td>\n      <td>14957.122624</td>\n      <td>17.9028</td>\n      <td>81.0052</td>\n      <td>185.5084</td>\n      <td>185.5084</td>\n      <td>161.9360</td>\n      <td>126.6616</td>\n    </tr>\n    <tr>\n      <th>five_cent</th>\n      <td>320.442451</td>\n      <td>8171.282492</td>\n      <td>19.7872</td>\n      <td>146.6052</td>\n      <td>196.2312</td>\n      <td>196.2312</td>\n      <td>158.5380</td>\n      <td>85.5464</td>\n    </tr>\n    <tr>\n      <th>five_cent</th>\n      <td>326.725636</td>\n      <td>8494.866535</td>\n      <td>19.3772</td>\n      <td>138.4072</td>\n      <td>184.4044</td>\n      <td>184.4044</td>\n      <td>149.1276</td>\n      <td>84.7772</td>\n    </tr>\n    <tr>\n      <th>ten</th>\n      <td>364.424748</td>\n      <td>10568.317687</td>\n      <td>17.5808</td>\n      <td>71.6992</td>\n      <td>165.9324</td>\n      <td>165.9324</td>\n      <td>147.1384</td>\n      <td>119.8320</td>\n    </tr>\n    <tr>\n      <th>five_cent</th>\n      <td>320.442451</td>\n      <td>8171.282492</td>\n      <td>19.4036</td>\n      <td>145.6868</td>\n      <td>194.3600</td>\n      <td>194.3600</td>\n      <td>155.1072</td>\n      <td>83.7904</td>\n    </tr>\n    <tr>\n      <th>two</th>\n      <td>490.088454</td>\n      <td>19113.449704</td>\n      <td>18.8264</td>\n      <td>123.8864</td>\n      <td>211.8836</td>\n      <td>211.8836</td>\n      <td>173.6152</td>\n      <td>109.2204</td>\n    </tr>\n    <tr>\n      <th>fifty</th>\n      <td>314.159265</td>\n      <td>7853.981634</td>\n      <td>18.2156</td>\n      <td>128.1328</td>\n      <td>196.0200</td>\n      <td>196.0200</td>\n      <td>157.6900</td>\n      <td>98.5848</td>\n    </tr>\n    <tr>\n      <th>one</th>\n      <td>383.274304</td>\n      <td>11689.866264</td>\n      <td>18.7412</td>\n      <td>121.7496</td>\n      <td>210.5720</td>\n      <td>210.5720</td>\n      <td>173.2736</td>\n      <td>111.2744</td>\n    </tr>\n    <tr>\n      <th>two</th>\n      <td>490.088454</td>\n      <td>19113.449704</td>\n      <td>18.9204</td>\n      <td>122.2252</td>\n      <td>212.5980</td>\n      <td>212.5980</td>\n      <td>175.1812</td>\n      <td>110.9960</td>\n    </tr>\n    <tr>\n      <th>one</th>\n      <td>402.123860</td>\n      <td>12867.963509</td>\n      <td>18.0448</td>\n      <td>133.6252</td>\n      <td>206.9828</td>\n      <td>206.9828</td>\n      <td>163.5916</td>\n      <td>98.7180</td>\n    </tr>\n    <tr>\n      <th>ten</th>\n      <td>339.292007</td>\n      <td>9160.884178</td>\n      <td>18.6268</td>\n      <td>126.9088</td>\n      <td>211.2196</td>\n      <td>211.2196</td>\n      <td>171.8620</td>\n      <td>106.4832</td>\n    </tr>\n    <tr>\n      <th>five</th>\n      <td>578.053048</td>\n      <td>26590.440220</td>\n      <td>18.6732</td>\n      <td>135.2628</td>\n      <td>213.8048</td>\n      <td>213.8048</td>\n      <td>170.7464</td>\n      <td>100.5048</td>\n    </tr>\n    <tr>\n      <th>five</th>\n      <td>565.486678</td>\n      <td>25446.900494</td>\n      <td>18.5728</td>\n      <td>130.0684</td>\n      <td>211.6360</td>\n      <td>211.6360</td>\n      <td>170.7128</td>\n      <td>103.9244</td>\n    </tr>\n    <tr>\n      <th>twenty</th>\n      <td>370.707933</td>\n      <td>10935.884027</td>\n      <td>19.4184</td>\n      <td>79.9104</td>\n      <td>205.8048</td>\n      <td>205.8048</td>\n      <td>183.2296</td>\n      <td>141.6432</td>\n    </tr>\n    <tr>\n      <th>one</th>\n      <td>414.690230</td>\n      <td>13684.777599</td>\n      <td>20.4864</td>\n      <td>57.6576</td>\n      <td>203.7348</td>\n      <td>203.7348</td>\n      <td>189.1588</td>\n      <td>157.8308</td>\n    </tr>\n    <tr>\n      <th>five_cent</th>\n      <td>320.442451</td>\n      <td>8171.282492</td>\n      <td>18.5208</td>\n      <td>160.4784</td>\n      <td>147.8836</td>\n      <td>147.8836</td>\n      <td>112.7148</td>\n      <td>55.9904</td>\n    </tr>\n    <tr>\n      <th>one</th>\n      <td>439.822972</td>\n      <td>15393.804003</td>\n      <td>19.1520</td>\n      <td>28.4220</td>\n      <td>213.5940</td>\n      <td>213.5940</td>\n      <td>204.9404</td>\n      <td>189.8256</td>\n    </tr>\n    <tr>\n      <th>one</th>\n      <td>420.973416</td>\n      <td>14102.609422</td>\n      <td>20.0312</td>\n      <td>24.4556</td>\n      <td>201.5112</td>\n      <td>201.5112</td>\n      <td>194.8512</td>\n      <td>182.1996</td>\n    </tr>\n    <tr>\n      <th>one</th>\n      <td>402.123860</td>\n      <td>12867.963509</td>\n      <td>18.2652</td>\n      <td>59.3060</td>\n      <td>174.9740</td>\n      <td>174.9740</td>\n      <td>159.3508</td>\n      <td>134.8292</td>\n    </tr>\n    <tr>\n      <th>fifty</th>\n      <td>345.575192</td>\n      <td>9503.317777</td>\n      <td>17.9664</td>\n      <td>76.3204</td>\n      <td>189.3504</td>\n      <td>189.3504</td>\n      <td>166.9968</td>\n      <td>132.8840</td>\n    </tr>\n    <tr>\n      <th>ten</th>\n      <td>333.008821</td>\n      <td>8824.733764</td>\n      <td>18.3640</td>\n      <td>34.0340</td>\n      <td>218.6488</td>\n      <td>218.6488</td>\n      <td>207.4160</td>\n      <td>189.6656</td>\n    </tr>\n    <tr>\n      <th>ten</th>\n      <td>333.008821</td>\n      <td>8824.733764</td>\n      <td>18.3640</td>\n      <td>34.0340</td>\n      <td>218.6488</td>\n      <td>218.6488</td>\n      <td>207.4160</td>\n      <td>189.6656</td>\n    </tr>\n  </tbody>\n</table>\n</div>"
     },
     "execution_count": 81,
     "metadata": {},
     "output_type": "execute_result"
    }
   ],
   "source": [
    "neutrals_list = ['L1010298.JPG', 'L1010318.JPG']\n",
    "noisy_list = ['L1010328.JPG', 'L1010341.JPG', 'L1010475.JPG']\n",
    "hand_list = ['L1010383.JPG', 'L1010378.JPG', 'L1010515.JPG', 'L1010515.JPG']\n",
    "\n",
    "cropped_images = []\n",
    "for img_neutral in neutrals_list:\n",
    "    cropped, _ = detect_and_crop_coins(img_path=train_path + '/neutral/' + img_neutral, image_type='neutral', display_cropped=False)\n",
    "    cropped_images = cropped_images + cropped\n",
    "\n",
    "for img_noisy in noisy_list:\n",
    "    cropped, _ = detect_and_crop_coins(img_path=train_path + '/noisy/' + img_noisy, image_type='noisy', display_cropped=False)\n",
    "    cropped_images = cropped_images + cropped\n",
    "\n",
    "for img_hand in hand_list:\n",
    "    cropped, _ = detect_and_crop_coins(img_path=train_path + '/hand/' + img_hand, image_type='hand', display_cropped=False)\n",
    "    cropped_images = cropped_images + cropped\n",
    "\n",
    "circles = []\n",
    "for img in cropped_images:\n",
    "    circle = detect_circles_classification(img=img, display=False)\n",
    "    circles.append(circle)\n",
    "\n",
    "# Assume `circles` is already defined and contains the detected circles\n",
    "properties = calculate_circle_properties(circles, cropped_images)\n",
    "\n",
    "# Creating a DataFrame\n",
    "labels = ['two', 'two', 'one', 'fifty', 'fifty', 'five', 'two', 'euro', 'one', 'five_cent', 'five_cent', 'euro', 'euro', 'ten', 'euro', 'five_cent', 'two', 'euro', 'fifty', 'euro', 'one', 'two', 'one', 'ten', 'five', 'five', 'euro', 'twenty', 'euro', 'euro', 'one', 'five_cent', 'one', 'one', 'one', 'euro', 'fifty', 'euro', 'euro', 'ten', 'euro', 'euro', 'ten']\n",
    "df = pd.DataFrame(properties, columns=['Perimeter', 'Area', 'H', 'S', 'V', 'R', 'G', 'B'], index=labels)\n",
    "df = df.drop('euro')\n",
    "df"
   ],
   "metadata": {
    "collapsed": false
   }
  },
  {
   "cell_type": "code",
   "execution_count": 82,
   "outputs": [
    {
     "data": {
      "text/plain": "<Figure size 1000x600 with 1 Axes>",
      "image/png": "[encoded data removed]"
     },
     "metadata": {},
     "output_type": "display_data"
    }
   ],
   "source": [
    "plt.figure(figsize=(10, 6))\n",
    "sns.scatterplot(data=df, x='B', y='Area', hue=df.index)\n",
    "plt.title('Scatter plot colored by value')\n",
    "# Add dotted lines for Area\n",
    "area_values = [24000, 17000, 12600, 10800, 10000]\n",
    "for value in area_values:\n",
    "    plt.axhline(y=value, color='b', linestyle=':', label=f'Area: {value}')\n",
    "B_values = [97]\n",
    "for value in B_values:\n",
    "    plt.axvline(x=value, color='r', linestyle=':', label=f'Area: {value}')\n",
    "\n",
    "\n",
    "plt.tight_layout()\n",
    "plt.show()"
   ],
   "metadata": {
    "collapsed": false
   }
  },
  {
   "cell_type": "markdown",
   "source": [
    "We can see on the image above that by using the area and the mean value of the blue channel, we are able to classify the value of the francs with few errors."
   ],
   "metadata": {
    "collapsed": false
   }
  },
  {
   "cell_type": "markdown",
   "source": [
    "# 5. EURO Classifier\n",
    "Our initial idea to classify euros was to not use any deep learning, but to simply rely on the size and the color of the coins to classify them into their exact values. To do so, similarly as in the CHF, we extracted the circles around the euros and computed the perimeters and the areas of a few coins of some training images. Additionally, for the same coins, we extracted the mean hue, saturation and value as well as the mean red, blue and green values for the center of each image. We then plotted them to see if we could find any threshold that could separate the classes."
   ],
   "metadata": {
    "collapsed": false
   }
  },
  {
   "cell_type": "code",
   "execution_count": 46,
   "outputs": [
    {
     "data": {
      "text/plain": "           Perimeter          Area        H         S         V         R  \\\nten       370.707933  10935.884027  19.7332  149.1888  178.7532  178.7532   \ntwo       471.238898  17671.458676  19.3332  136.2364  180.4756  180.4756   \nfive      402.123860  12867.963509  10.2188  144.6596  198.9892  198.9892   \nfive      395.840674  12468.981242  14.2328  160.7404  174.5992  174.5992   \ntwenty    414.690230  13684.777599  19.5736  143.2088  184.3596  184.3596   \ntwo_cent  351.858377   9852.034562  11.5456  145.4464  164.3648  164.3648   \ntwo_cent  351.858377   9852.034562  12.7292  145.7292  202.5476  202.5476   \ntwenty    414.690230  13684.777599  19.7284  154.1624  190.8756  190.8756   \ntwo       452.389342  16286.016316  19.8068  136.7092  179.0680  179.0680   \nfive      395.840674  12468.981242  10.5148  165.8036  174.2300  174.2300   \nfifty     414.690230  13684.777599  19.6004  177.7144  161.5564  161.5564   \nten       370.707933  10935.884027  19.8004  155.7776  177.0324  177.0324   \ntwenty    402.123860  12867.963509  19.7260  154.5584  169.8580  169.8580   \none       439.822972  15393.804003  19.2672   73.0532  155.4964  155.4964   \none_cent  326.725636   8494.866535   9.8396  151.8572  171.1152  171.1152   \ntwo_cent  339.292007   9160.884178  10.8220  155.3600  193.9932  193.9932   \none       408.407045  13273.228961  18.2672  129.9636  194.9132  194.9132   \ntwo_cent  339.292007   9160.884178  15.4824  184.7912  233.2064  233.2064   \ntwo_cent  333.008821   8824.733764  14.5044  195.5216  219.8812  219.8812   \none_cent  333.008821   8824.733764  15.5568  184.5268  231.7640  231.7640   \nfifty     439.822972  15393.804003  20.2816  171.2028  225.5956  225.5956   \nfifty     471.238898  17671.458676  20.7352  173.4340  231.1708  231.1708   \nfive      364.424748  10568.317687  16.4384  169.2992  240.7144  240.7144   \ntwo       483.805269  18626.502843  19.4776  148.0428  224.1920  224.1920   \ntwenty    408.407045  13273.228961  19.8928  183.6856  220.8988  220.8988   \ntwo       320.442451   8171.282492  15.1456  185.8988  221.7912  221.7912   \nten       345.575192   9503.317777  19.3504  183.3024  213.0728  213.0728   \nfifty     427.256601  14526.724430  19.7932  182.8092  220.7816  220.7816   \nfifty     427.256601  14526.724430  19.6776  163.3608  203.9724  203.9724   \none_cent  333.008821   8824.733764  13.0664  163.7880  209.3920  209.3920   \nfive      408.407045  13273.228961  15.7580  146.6584  179.7044  179.7044   \ntwo       477.522083  18145.839167  20.9704   96.5120  195.5936  195.5936   \nfive      383.274304  11689.866264  12.5800   74.6288  200.6200  200.6200   \ntwo_cent  339.292007   9160.884178  17.6568  103.6740  230.7464  230.7464   \n\n                 G         B  \nten       142.9976   74.5292  \ntwo       146.1088   84.2804  \nfive      124.6736   86.3784  \nfive      116.9332   64.6144  \ntwenty    148.5748   81.3192  \ntwo_cent  106.7888   70.8992  \ntwo_cent  136.0164   87.0636  \ntwenty    151.4756   75.6512  \ntwo       146.8364   83.2352  \nfive      101.2724   61.0044  \nfifty     122.6144   49.4488  \nten       139.9784   69.0864  \ntwenty    134.8196   67.4168  \none       139.3012  111.0556  \none_cent  103.3732   69.8736  \ntwo_cent  118.6596   76.3296  \none       156.1080   96.3072  \ntwo_cent  151.5408   64.6388  \ntwo_cent  133.3436   51.5308  \none_cent  150.9052   64.7380  \nfifty     177.3448   74.3704  \nfifty     182.6092   74.0448  \nfive      168.3216   81.0144  \ntwo       179.0276   94.1800  \ntwenty    167.5812   62.3164  \ntwo       143.3612   60.2828  \nten       159.1264   60.5052  \nfifty     167.3464   62.8072  \nfifty     159.4188   73.8212  \none_cent  133.5968   75.2504  \nfive      130.8900   76.4820  \ntwo       173.1232  121.7136  \nfive      166.9452  141.9652  \ntwo_cent  192.0460  137.8332  ",
      "text/html": "<div>\n<style scoped>\n    .dataframe tbody tr th:only-of-type {\n        vertical-align: middle;\n    }\n\n    .dataframe tbody tr th {\n        vertical-align: top;\n    }\n\n    .dataframe thead th {\n        text-align: right;\n    }\n</style>\n<table border=\"1\" class=\"dataframe\">\n  <thead>\n    <tr style=\"text-align: right;\">\n      <th></th>\n      <th>Perimeter</th>\n      <th>Area</th>\n      <th>H</th>\n      <th>S</th>\n      <th>V</th>\n      <th>R</th>\n      <th>G</th>\n      <th>B</th>\n    </tr>\n  </thead>\n  <tbody>\n    <tr>\n      <th>ten</th>\n      <td>370.707933</td>\n      <td>10935.884027</td>\n      <td>19.7332</td>\n      <td>149.1888</td>\n      <td>178.7532</td>\n      <td>178.7532</td>\n      <td>142.9976</td>\n      <td>74.5292</td>\n    </tr>\n    <tr>\n      <th>two</th>\n      <td>471.238898</td>\n      <td>17671.458676</td>\n      <td>19.3332</td>\n      <td>136.2364</td>\n      <td>180.4756</td>\n      <td>180.4756</td>\n      <td>146.1088</td>\n      <td>84.2804</td>\n    </tr>\n    <tr>\n      <th>five</th>\n      <td>402.123860</td>\n      <td>12867.963509</td>\n      <td>10.2188</td>\n      <td>144.6596</td>\n      <td>198.9892</td>\n      <td>198.9892</td>\n      <td>124.6736</td>\n      <td>86.3784</td>\n    </tr>\n    <tr>\n      <th>five</th>\n      <td>395.840674</td>\n      <td>12468.981242</td>\n      <td>14.2328</td>\n      <td>160.7404</td>\n      <td>174.5992</td>\n      <td>174.5992</td>\n      <td>116.9332</td>\n      <td>64.6144</td>\n    </tr>\n    <tr>\n      <th>twenty</th>\n      <td>414.690230</td>\n      <td>13684.777599</td>\n      <td>19.5736</td>\n      <td>143.2088</td>\n      <td>184.3596</td>\n      <td>184.3596</td>\n      <td>148.5748</td>\n      <td>81.3192</td>\n    </tr>\n    <tr>\n      <th>two_cent</th>\n      <td>351.858377</td>\n      <td>9852.034562</td>\n      <td>11.5456</td>\n      <td>145.4464</td>\n      <td>164.3648</td>\n      <td>164.3648</td>\n      <td>106.7888</td>\n      <td>70.8992</td>\n    </tr>\n    <tr>\n      <th>two_cent</th>\n      <td>351.858377</td>\n      <td>9852.034562</td>\n      <td>12.7292</td>\n      <td>145.7292</td>\n      <td>202.5476</td>\n      <td>202.5476</td>\n      <td>136.0164</td>\n      <td>87.0636</td>\n    </tr>\n    <tr>\n      <th>twenty</th>\n      <td>414.690230</td>\n      <td>13684.777599</td>\n      <td>19.7284</td>\n      <td>154.1624</td>\n      <td>190.8756</td>\n      <td>190.8756</td>\n      <td>151.4756</td>\n      <td>75.6512</td>\n    </tr>\n    <tr>\n      <th>two</th>\n      <td>452.389342</td>\n      <td>16286.016316</td>\n      <td>19.8068</td>\n      <td>136.7092</td>\n      <td>179.0680</td>\n      <td>179.0680</td>\n      <td>146.8364</td>\n      <td>83.2352</td>\n    </tr>\n    <tr>\n      <th>five</th>\n      <td>395.840674</td>\n      <td>12468.981242</td>\n      <td>10.5148</td>\n      <td>165.8036</td>\n      <td>174.2300</td>\n      <td>174.2300</td>\n      <td>101.2724</td>\n      <td>61.0044</td>\n    </tr>\n    <tr>\n      <th>fifty</th>\n      <td>414.690230</td>\n      <td>13684.777599</td>\n      <td>19.6004</td>\n      <td>177.7144</td>\n      <td>161.5564</td>\n      <td>161.5564</td>\n      <td>122.6144</td>\n      <td>49.4488</td>\n    </tr>\n    <tr>\n      <th>ten</th>\n      <td>370.707933</td>\n      <td>10935.884027</td>\n      <td>19.8004</td>\n      <td>155.7776</td>\n      <td>177.0324</td>\n      <td>177.0324</td>\n      <td>139.9784</td>\n      <td>69.0864</td>\n    </tr>\n    <tr>\n      <th>twenty</th>\n      <td>402.123860</td>\n      <td>12867.963509</td>\n      <td>19.7260</td>\n      <td>154.5584</td>\n      <td>169.8580</td>\n      <td>169.8580</td>\n      <td>134.8196</td>\n      <td>67.4168</td>\n    </tr>\n    <tr>\n      <th>one</th>\n      <td>439.822972</td>\n      <td>15393.804003</td>\n      <td>19.2672</td>\n      <td>73.0532</td>\n      <td>155.4964</td>\n      <td>155.4964</td>\n      <td>139.3012</td>\n      <td>111.0556</td>\n    </tr>\n    <tr>\n      <th>one_cent</th>\n      <td>326.725636</td>\n      <td>8494.866535</td>\n      <td>9.8396</td>\n      <td>151.8572</td>\n      <td>171.1152</td>\n      <td>171.1152</td>\n      <td>103.3732</td>\n      <td>69.8736</td>\n    </tr>\n    <tr>\n      <th>two_cent</th>\n      <td>339.292007</td>\n      <td>9160.884178</td>\n      <td>10.8220</td>\n      <td>155.3600</td>\n      <td>193.9932</td>\n      <td>193.9932</td>\n      <td>118.6596</td>\n      <td>76.3296</td>\n    </tr>\n    <tr>\n      <th>one</th>\n      <td>408.407045</td>\n      <td>13273.228961</td>\n      <td>18.2672</td>\n      <td>129.9636</td>\n      <td>194.9132</td>\n      <td>194.9132</td>\n      <td>156.1080</td>\n      <td>96.3072</td>\n    </tr>\n    <tr>\n      <th>two_cent</th>\n      <td>339.292007</td>\n      <td>9160.884178</td>\n      <td>15.4824</td>\n      <td>184.7912</td>\n      <td>233.2064</td>\n      <td>233.2064</td>\n      <td>151.5408</td>\n      <td>64.6388</td>\n    </tr>\n    <tr>\n      <th>two_cent</th>\n      <td>333.008821</td>\n      <td>8824.733764</td>\n      <td>14.5044</td>\n      <td>195.5216</td>\n      <td>219.8812</td>\n      <td>219.8812</td>\n      <td>133.3436</td>\n      <td>51.5308</td>\n    </tr>\n    <tr>\n      <th>one_cent</th>\n      <td>333.008821</td>\n      <td>8824.733764</td>\n      <td>15.5568</td>\n      <td>184.5268</td>\n      <td>231.7640</td>\n      <td>231.7640</td>\n      <td>150.9052</td>\n      <td>64.7380</td>\n    </tr>\n    <tr>\n      <th>fifty</th>\n      <td>439.822972</td>\n      <td>15393.804003</td>\n      <td>20.2816</td>\n      <td>171.2028</td>\n      <td>225.5956</td>\n      <td>225.5956</td>\n      <td>177.3448</td>\n      <td>74.3704</td>\n    </tr>\n    <tr>\n      <th>fifty</th>\n      <td>471.238898</td>\n      <td>17671.458676</td>\n      <td>20.7352</td>\n      <td>173.4340</td>\n      <td>231.1708</td>\n      <td>231.1708</td>\n      <td>182.6092</td>\n      <td>74.0448</td>\n    </tr>\n    <tr>\n      <th>five</th>\n      <td>364.424748</td>\n      <td>10568.317687</td>\n      <td>16.4384</td>\n      <td>169.2992</td>\n      <td>240.7144</td>\n      <td>240.7144</td>\n      <td>168.3216</td>\n      <td>81.0144</td>\n    </tr>\n    <tr>\n      <th>two</th>\n      <td>483.805269</td>\n      <td>18626.502843</td>\n      <td>19.4776</td>\n      <td>148.0428</td>\n      <td>224.1920</td>\n      <td>224.1920</td>\n      <td>179.0276</td>\n      <td>94.1800</td>\n    </tr>\n    <tr>\n      <th>twenty</th>\n      <td>408.407045</td>\n      <td>13273.228961</td>\n      <td>19.8928</td>\n      <td>183.6856</td>\n      <td>220.8988</td>\n      <td>220.8988</td>\n      <td>167.5812</td>\n      <td>62.3164</td>\n    </tr>\n    <tr>\n      <th>two</th>\n      <td>320.442451</td>\n      <td>8171.282492</td>\n      <td>15.1456</td>\n      <td>185.8988</td>\n      <td>221.7912</td>\n      <td>221.7912</td>\n      <td>143.3612</td>\n      <td>60.2828</td>\n    </tr>\n    <tr>\n      <th>ten</th>\n      <td>345.575192</td>\n      <td>9503.317777</td>\n      <td>19.3504</td>\n      <td>183.3024</td>\n      <td>213.0728</td>\n      <td>213.0728</td>\n      <td>159.1264</td>\n      <td>60.5052</td>\n    </tr>\n    <tr>\n      <th>fifty</th>\n      <td>427.256601</td>\n      <td>14526.724430</td>\n      <td>19.7932</td>\n      <td>182.8092</td>\n      <td>220.7816</td>\n      <td>220.7816</td>\n      <td>167.3464</td>\n      <td>62.8072</td>\n    </tr>\n    <tr>\n      <th>fifty</th>\n      <td>427.256601</td>\n      <td>14526.724430</td>\n      <td>19.6776</td>\n      <td>163.3608</td>\n      <td>203.9724</td>\n      <td>203.9724</td>\n      <td>159.4188</td>\n      <td>73.8212</td>\n    </tr>\n    <tr>\n      <th>one_cent</th>\n      <td>333.008821</td>\n      <td>8824.733764</td>\n      <td>13.0664</td>\n      <td>163.7880</td>\n      <td>209.3920</td>\n      <td>209.3920</td>\n      <td>133.5968</td>\n      <td>75.2504</td>\n    </tr>\n    <tr>\n      <th>five</th>\n      <td>408.407045</td>\n      <td>13273.228961</td>\n      <td>15.7580</td>\n      <td>146.6584</td>\n      <td>179.7044</td>\n      <td>179.7044</td>\n      <td>130.8900</td>\n      <td>76.4820</td>\n    </tr>\n    <tr>\n      <th>two</th>\n      <td>477.522083</td>\n      <td>18145.839167</td>\n      <td>20.9704</td>\n      <td>96.5120</td>\n      <td>195.5936</td>\n      <td>195.5936</td>\n      <td>173.1232</td>\n      <td>121.7136</td>\n    </tr>\n    <tr>\n      <th>five</th>\n      <td>383.274304</td>\n      <td>11689.866264</td>\n      <td>12.5800</td>\n      <td>74.6288</td>\n      <td>200.6200</td>\n      <td>200.6200</td>\n      <td>166.9452</td>\n      <td>141.9652</td>\n    </tr>\n    <tr>\n      <th>two_cent</th>\n      <td>339.292007</td>\n      <td>9160.884178</td>\n      <td>17.6568</td>\n      <td>103.6740</td>\n      <td>230.7464</td>\n      <td>230.7464</td>\n      <td>192.0460</td>\n      <td>137.8332</td>\n    </tr>\n  </tbody>\n</table>\n</div>"
     },
     "execution_count": 46,
     "metadata": {},
     "output_type": "execute_result"
    }
   ],
   "source": [
    "neutrals_list = ['L1010308.JPG', 'L1010323.JPG']\n",
    "noisy_list = ['L1010331.JPG', 'L1010356.JPG']\n",
    "hand_list = ['L1010395.JPG', 'L1010377.JPG']\n",
    "\n",
    "cropped_images = []\n",
    "for img_neutral in neutrals_list:\n",
    "    cropped, _ = detect_and_crop_coins(img_path=train_path + '/neutral/' + img_neutral, image_type='neutral', display_cropped=False)\n",
    "    cropped_images = cropped_images + cropped\n",
    "\n",
    "for img_noisy in noisy_list:\n",
    "    cropped, _ = detect_and_crop_coins(img_path=train_path + '/noisy/' + img_noisy, image_type='noisy', display_cropped=False)\n",
    "    cropped_images = cropped_images + cropped\n",
    "\n",
    "for img_hand in hand_list:\n",
    "    cropped, _ = detect_and_crop_coins(img_path=train_path + '/hand/' + img_hand, image_type='hand', display_cropped=False)\n",
    "    cropped_images = cropped_images + cropped\n",
    "\n",
    "circles = []\n",
    "for img in cropped_images:\n",
    "    circle = detect_circles_classification(img=img, display=False)\n",
    "    circles.append(circle)\n",
    "\n",
    "# Assume `circles` is already defined and contains the detected circles\n",
    "properties = calculate_circle_properties(circles, cropped_images)\n",
    "\n",
    "# Creating a DataFrame\n",
    "labels = ['franc', 'ten', 'two', 'five', 'five', 'twenty', 'two_cent', 'two_cent', 'twenty', 'two', 'five', 'fifty', 'ten', 'twenty', 'one', 'one_cent', 'two_cent', 'franc', 'one', 'two_cent', 'two_cent', 'one_cent', 'fifty', 'fifty', 'five', 'two', 'twenty', 'two', 'ten', 'fifty', 'franc', 'fifty', 'one_cent', 'five', 'franc', 'two', 'five', 'two_cent', 'franc']\n",
    "df = pd.DataFrame(properties, columns=['Perimeter', 'Area', 'H', 'S', 'V', 'R', 'G', 'B'], index=labels)\n",
    "df = df.drop('franc')\n",
    "df"
   ],
   "metadata": {
    "collapsed": false
   }
  },
  {
   "cell_type": "code",
   "execution_count": 53,
   "outputs": [
    {
     "data": {
      "text/plain": "<Figure size 1000x600 with 1 Axes>",
      "image/png": "[encoded data removed]"
     },
     "metadata": {},
     "output_type": "display_data"
    },
    {
     "data": {
      "text/plain": "<Figure size 1000x600 with 1 Axes>",
      "image/png": "[encoded data removed]"
     },
     "metadata": {},
     "output_type": "display_data"
    },
    {
     "data": {
      "text/plain": "<Figure size 1000x600 with 1 Axes>",
      "image/png": "[encoded data removed]"
     },
     "metadata": {},
     "output_type": "display_data"
    }
   ],
   "source": [
    "plt.figure(figsize=(10, 6))\n",
    "sns.scatterplot(data=df, x='Area', y='H', hue=df.index)\n",
    "plt.title('Scatter plot colored by value')\n",
    "plt.show()\n",
    "\n",
    "plt.figure(figsize=(10, 6))\n",
    "sns.scatterplot(data=df, x='Area', y='R', hue=df.index)\n",
    "plt.title('Scatter plot colored by value')\n",
    "plt.show()\n",
    "\n",
    "plt.figure(figsize=(10, 6))\n",
    "sns.scatterplot(data=df, x='Area', y='B', hue=df.index)\n",
    "plt.title('Scatter plot colored by value')\n",
    "plt.show()"
   ],
   "metadata": {
    "collapsed": false
   }
  },
  {
   "cell_type": "markdown",
   "source": [
    "We just show a few plots above, but as you can see, it is hard to manually find a threshold to separate the coins. We thought that maybe when including all dimensions, coins of the same values would be clustered together. We thus tried to see if a KNN algorithm would be able to identify 8 clusters of points given the computed properties. Unfortunately, upon analysing the results, we concluded that the clustering was unsuccessful.\n",
    "In the end, we therefore decided that the best way to classify these coins was also to use a supervised pre-trained deep learning model. At this stage, we labelled each euro coin present in our \"cropped\" directory with a label indicating its exact value. The cell below loads these labels, the labels indicated which coins are euros (see section 3) and the cropped images. We re-load all the images at this stage in order to make sure that the labels are in the same order as the images."
   ],
   "metadata": {
    "collapsed": false
   }
  },
  {
   "cell_type": "code",
   "execution_count": null,
   "outputs": [],
   "source": [
    "currency_labels = pd.read_csv('./data/CHF_EUR_OOD_labels.csv', sep=';', index_col=0)\n",
    "labels_all = pd.read_csv('./data/euro_labels.csv', sep=',', index_col=0)\n",
    "labels_euros = labels_all[labels_all['Label']!='Not euro']\n",
    "\n",
    "images_euros = []\n",
    "labels = []\n",
    "ids_euros = []\n",
    "for root, dirs, files in os.walk(cropped_path):\n",
    "    for file in files:\n",
    "        # construct path to the image file\n",
    "        file_path = os.path.join(root, file)\n",
    "        im = cv2.imread(file_path, cv2.IMREAD_COLOR)\n",
    "        if im is not None:\n",
    "            img_id = file[:-4]\n",
    "            label = np.argmax(currency_labels.loc[int(img_id)].values)\n",
    "            if label == 1:\n",
    "                temp = preprocess(im).unsqueeze(0)\n",
    "                temp = temp.reshape([3, 224, 224])\n",
    "                images_euros.append(temp)\n",
    "                labels.append(float(labels_euros.loc[int(img_id)].values[0]))\n",
    "                ids_euros.append(img_id)\n",
    "\n",
    "# one-hot encoding of the labels for easier training of the model\n",
    "df_labels = pd.DataFrame(labels, columns=['value'], index=ids_euros)\n",
    "one_hot_labels = pd.get_dummies(df_labels['value'])\n",
    "one_hot_labels"
   ],
   "metadata": {
    "collapsed": false
   }
  },
  {
   "cell_type": "code",
   "execution_count": null,
   "outputs": [],
   "source": [
    "# dataset creation\n",
    "data = TensorDataset(torch.tensor(np.array(np.array(one_hot_labels)), dtype=torch.float32), torch.tensor(np.array(images_euros)))\n",
    "train_size = int(0.75 * len(data))\n",
    "val_size = len(data) - train_size\n",
    "train_dataset, val_dataset = torch.utils.data.random_split(data, [train_size, val_size])"
   ],
   "metadata": {
    "collapsed": false
   }
  },
  {
   "cell_type": "markdown",
   "source": [
    "We needed to use a small model and thus decided to try resnet18. We used the same pre-processing as for our CHF/EUR/OOD classifier since the models were pre-trained on the same dataset (imagenet1k). We explored a range of different learning rates and chose the one that gave the best results on our validation set."
   ],
   "metadata": {
    "collapsed": false
   }
  },
  {
   "cell_type": "code",
   "execution_count": null,
   "outputs": [],
   "source": [
    "learning_rates= [0.1, 0.01, 0.03, 0.04, 0.05, 0.07, 0.001]\n",
    "\n",
    "for lr in learning_rates:\n",
    "    print(f\"###### STARTING LEARNING RATE {lr} #######\")\n",
    "    torch.manual_seed(42)\n",
    "    random.seed(42)\n",
    "    np.random.seed(42)\n",
    "\n",
    "    model = torchvision.models.resnet18(weights='IMAGENET1K_V1')\n",
    "\n",
    "    num_ftrs = model.fc.in_features\n",
    "    model.fc = nn.Linear(num_ftrs, 8)\n",
    "\n",
    "    model = model.to(device)\n",
    "    criterion = nn.CrossEntropyLoss()\n",
    "    # only optimise last layer (classifier)\n",
    "    optimizer_conv = optim.SGD(model.fc.parameters(), lr=lr, momentum=0.9)\n",
    "    # Decay LR by a factor of 0.1 every 7 epochs\n",
    "    exp_lr_scheduler = lr_scheduler.StepLR(optimizer_conv, step_size=7, gamma=0.1)\n",
    "    model, train_losses, val_losses, train_acc, val_acc, train_f1, val_f1, preds = \\\n",
    "        train_model(model, criterion, optimizer_conv, exp_lr_scheduler, train_dataset, val_dataset, device, num_epochs=21, batch_size=6)\n",
    "    print(f\"###### LEARNING RATE {lr} DONE #######\")"
   ],
   "metadata": {
    "collapsed": false
   }
  },
  {
   "cell_type": "markdown",
   "source": [
    "We have found that the best learning rate for this model is . We thus train the model using the best learning rate and using early stopping to define the best epoch and avoid overfitting to the training set. Here again, we plot the loss, the accuracy and the f1-score, control the size of the model (106MB) and save the weights to not have to re-train the model."
   ],
   "metadata": {
    "collapsed": false
   }
  },
  {
   "cell_type": "code",
   "execution_count": null,
   "outputs": [],
   "source": [
    "model = torchvision.models.resnet18(weights='IMAGENET1K_V1')\n",
    "\n",
    "num_ftrs = model.fc.in_features\n",
    "model.fc = nn.Linear(num_ftrs, 8)\n",
    "\n",
    "model = model.to(device)\n",
    "criterion = nn.CrossEntropyLoss()\n",
    "# only optimise last layer (classifier)\n",
    "optimizer_conv = optim.SGD(model.fc.parameters(), lr=0.5, momentum=0.9)\n",
    "# Decay LR by a factor of 0.1 every 7 epochs\n",
    "exp_lr_scheduler = lr_scheduler.StepLR(optimizer_conv, step_size=7, gamma=0.1)\n",
    "model, train_losses, val_losses, train_acc, val_acc, train_f1, val_f1, preds = \\\n",
    "    train_model(model, criterion, optimizer_conv, exp_lr_scheduler, train_dataset, val_dataset, device, num_epochs=9, batch_size=32)"
   ],
   "metadata": {
    "collapsed": false
   }
  },
  {
   "cell_type": "code",
   "execution_count": null,
   "outputs": [],
   "source": [
    "plot_metric(train_losses, val_losses, 'Training and Validation Loss', 'Loss')\n",
    "plot_metric(train_acc, val_acc, 'Training and Validation Accuracy', 'Accuracy')\n",
    "plot_metric(train_f1, val_f1, 'Training and Validation F1-Score', 'F1-score')"
   ],
   "metadata": {
    "collapsed": false
   }
  },
  {
   "cell_type": "code",
   "execution_count": null,
   "outputs": [],
   "source": [
    "summary(model, preprocess(images_euros[0]).shape)"
   ],
   "metadata": {
    "collapsed": false
   }
  },
  {
   "cell_type": "code",
   "execution_count": null,
   "outputs": [],
   "source": [
    "#torch.save(model.state_dict(), './models/resnet_b32_lr5e1_step7_epoch8_split0.75')"
   ],
   "metadata": {
    "collapsed": false
   }
  },
  {
   "cell_type": "markdown",
   "source": [
    "# 6. Final submission\n",
    "Here is the code to produce our final submission on Kaggle. We load the test images, predict their background and identify each coin using our segmentation functions. We then identify the currency of each coin using our fine-tuned alexnet. If it's a franc, we find its value using its size and its color. If it's a euro, we find its value using our fine-tuned resnet18."
   ],
   "metadata": {
    "collapsed": false
   }
  },
  {
   "cell_type": "code",
   "execution_count": 71,
   "metadata": {},
   "outputs": [],
   "source": [
    "### TO ADAPT ###\n",
    "\"\"\"neutral_downsampled = \"preprocessed_data/downsampled/train/neutral\"\n",
    "noisy_downsampled = \"preprocessed_data/downsampled/train/noisy\"\n",
    "hand_downsampled = \"preprocessed_data/downsampled/train/hand\"\"\"\"\"\n",
    "\n",
    "\"\"\"neutral_folder = \"data/train/neutral\"\n",
    "noisy_folder = \"C:/Users/rapha/OneDrive/Documents/2. EPFL/Master/MA2/Image Analysis & Pattern Recognition/iapr24-coin-counter/train/noisy\"\n",
    "hand_folder = \"C:/Users/rapha/OneDrive/Documents/2. EPFL/Master/MA2/Image Analysis & Pattern Recognition/iapr24-coin-counter/train/hand\"\"\"\"\"\n",
    "\n",
    "all_folder = \"data/train\"\n",
    "downsampled_all = \"preprocessed_data/downsampled/train\"\n",
    "\n",
    "downsampled_test = \"preprocessed_data/downsampled/test\"\n",
    "test_folder = \"data/test\"\n",
    "\n",
    "model_path1 = \"models/classifier_class3_b6_lr5e4_step7_epoch17_split0.75\"\n",
    "#model_path1 = \"models/best/classifier_class3_b6_lr2e3_step7_epoch11_split0.75\"\n",
    "#model_path2 = \"models/resnet_b6_lr1e2_step7_epoch8_split0.75\"\n",
    "#model_path2 = './models/resnet_b32_lr5e1_step7_epoch8_split0.75'\n",
    "model_path2 = './models/resnet_b32_lr4e2_step7_epoch10_split0.75'\n",
    "\n",
    "csv_file = \"data/train_labels.csv\"\n",
    "csv_path = \"submission5.csv\""
   ]
  },
  {
   "cell_type": "markdown",
   "metadata": {},
   "source": [
    "Choose folder to process"
   ]
  },
  {
   "cell_type": "code",
   "execution_count": 66,
   "metadata": {},
   "outputs": [],
   "source": [
    "### TO ADAPT ###\n",
    "folder = test_folder\n",
    "downsampled_folder = downsampled_test"
   ]
  },
  {
   "cell_type": "markdown",
   "metadata": {},
   "source": [
    "Background"
   ]
  },
  {
   "cell_type": "code",
   "execution_count": 67,
   "metadata": {},
   "outputs": [
    {
     "name": "stdout",
     "output_type": "stream",
     "text": [
      "Processing file L0000000.JPG\n",
      "Processing file L0000001.JPG\n",
      "Processing file L0000002.JPG\n",
      "Processing file L0000003.JPG\n",
      "Processing file L0000004.JPG\n",
      "Processing file L0000005.JPG\n",
      "Processing file L0000006.JPG\n",
      "Processing file L0000007.JPG\n",
      "Processing file L0000008.JPG\n",
      "Processing file L0000009.JPG\n",
      "Processing file L0000010.JPG\n",
      "Processing file L0000011.JPG\n",
      "Processing file L0000012.JPG\n",
      "Processing file L0000013.JPG\n",
      "Processing file L0000014.JPG\n",
      "Processing file L0000015.JPG\n",
      "Processing file L0000016.JPG\n",
      "Processing file L0000017.JPG\n",
      "Processing file L0000018.JPG\n",
      "Processing file L0000019.JPG\n",
      "Processing file L0000020.JPG\n",
      "Processing file L0000021.JPG\n",
      "Processing file L0000022.JPG\n",
      "Processing file L0000023.JPG\n",
      "Processing file L0000024.JPG\n",
      "Processing file L0000025.JPG\n",
      "Processing file L0000026.JPG\n",
      "Processing file L0000027.JPG\n",
      "Processing file L0000028.JPG\n",
      "Processing file L0000029.JPG\n",
      "Processing file L0000030.JPG\n",
      "Processing file L0000031.JPG\n",
      "Processing file L0000032.JPG\n",
      "Processing file L0000033.JPG\n",
      "Processing file L0000034.JPG\n",
      "Processing file L0000035.JPG\n",
      "Processing file L0000036.JPG\n",
      "Processing file L0000037.JPG\n",
      "Processing file L0000038.JPG\n",
      "Processing file L0000039.JPG\n",
      "Processing file L0000040.JPG\n",
      "Processing file L0000041.JPG\n",
      "Processing file L0000042.JPG\n",
      "Processing file L0000043.JPG\n",
      "Processing file L0000044.JPG\n",
      "Processing file L0000045.JPG\n",
      "Processing file L0000046.JPG\n",
      "Processing file L0000047.JPG\n",
      "Processing file L0000048.JPG\n",
      "Processing file L0000049.JPG\n",
      "Processing file L0000050.JPG\n",
      "Processing file L0000051.JPG\n",
      "Processing file L0000052.JPG\n",
      "Processing file L0000053.JPG\n",
      "Processing file L0000054.JPG\n",
      "Processing file L0000055.JPG\n",
      "Processing file L0000056.JPG\n",
      "Processing file L0000057.JPG\n",
      "Processing file L0000058.JPG\n",
      "Processing file L0000059.JPG\n",
      "Processing file L0000060.JPG\n",
      "Processing file L0000061.JPG\n",
      "Processing file L0000062.JPG\n",
      "Processing file L0000063.JPG\n",
      "Processing file L0000064.JPG\n",
      "Processing file L0000065.JPG\n",
      "Processing file L0000066.JPG\n",
      "Processing file L0000067.JPG\n",
      "Processing file L0000068.JPG\n",
      "Processing file L0000069.JPG\n",
      "Processing file L0000070.JPG\n",
      "Processing file L0000071.JPG\n",
      "Processing file L0000072.JPG\n",
      "Processing file L0000073.JPG\n",
      "Processing file L0000074.JPG\n",
      "Processing file L0000075.JPG\n",
      "Processing file L0000076.JPG\n",
      "Processing file L0000077.JPG\n",
      "Processing file L0000078.JPG\n",
      "Processing file L0000079.JPG\n",
      "Processing file L0000080.JPG\n",
      "Processing file L0000081.JPG\n",
      "Processing file L0000082.JPG\n",
      "Processing file L0000083.JPG\n",
      "Processing file L0000084.JPG\n",
      "Processing file L0000085.JPG\n",
      "Processing file L0000086.JPG\n",
      "Processing file L0000087.JPG\n",
      "Processing file L0000088.JPG\n",
      "Processing file L0000089.JPG\n",
      "Processing file L0000090.JPG\n",
      "Processing file L0000091.JPG\n",
      "Processing file L0000092.JPG\n",
      "Processing file L0000093.JPG\n",
      "Processing file L0000094.JPG\n",
      "Processing file L0000095.JPG\n",
      "Processing file L0000096.JPG\n",
      "Processing file L0000097.JPG\n",
      "Processing file L0000098.JPG\n",
      "Processing file L0000099.JPG\n",
      "Processing file L0000100.JPG\n",
      "Processing file L0000101.JPG\n",
      "Processing file L0000102.JPG\n",
      "Processing file L0000103.JPG\n",
      "Processing file L0000104.JPG\n",
      "Processing file L0000105.JPG\n",
      "Processing file L0000106.JPG\n",
      "Processing file L0000107.JPG\n",
      "Processing file L0000108.JPG\n",
      "Processing file L0000109.JPG\n",
      "Processing file L0000110.JPG\n",
      "Processing file L0000111.JPG\n",
      "Processing file L0000112.JPG\n",
      "Processing file L0000113.JPG\n",
      "Processing file L0000114.JPG\n",
      "Processing file L0000115.JPG\n",
      "Processing file L0000116.JPG\n",
      "Processing file L0000117.JPG\n",
      "Processing file L0000118.JPG\n",
      "Processing file L0000119.JPG\n",
      "Processing file L0000120.JPG\n",
      "Processing file L0000121.JPG\n",
      "Processing file L0000122.JPG\n",
      "Processing file L0000123.JPG\n",
      "Processing file L0000124.JPG\n",
      "Processing file L0000125.JPG\n",
      "Processing file L0000126.JPG\n",
      "Processing file L0000127.JPG\n",
      "Processing file L0000128.JPG\n",
      "Processing file L0000129.JPG\n",
      "Processing file L0000130.JPG\n",
      "Processing file L0000131.JPG\n",
      "Processing file L0000132.JPG\n",
      "Processing file L0000133.JPG\n",
      "Processing file L0000134.JPG\n",
      "Processing file L0000135.JPG\n",
      "Processing file L0000136.JPG\n",
      "Processing file L0000137.JPG\n",
      "Processing file L0000138.JPG\n",
      "Processing file L0000139.JPG\n",
      "Processing file L0000140.JPG\n",
      "Processing file L0000141.JPG\n",
      "Processing file L0000142.JPG\n",
      "Processing file L0000143.JPG\n",
      "Processing file L0000144.JPG\n",
      "Processing file L0000145.JPG\n",
      "Processing file L0000146.JPG\n",
      "Processing file L0000147.JPG\n",
      "Processing file L0000148.JPG\n",
      "Processing file L0000149.JPG\n",
      "Processing file L0000150.JPG\n",
      "Processing file L0000151.JPG\n",
      "Processing file L0000152.JPG\n",
      "Processing file L0000153.JPG\n",
      "Processing file L0000154.JPG\n",
      "Processing file L0000155.JPG\n",
      "Processing file L0000156.JPG\n",
      "Processing file L0000157.JPG\n",
      "Processing file L0000158.JPG\n",
      "Processing file L0000159.JPG\n",
      "Processing file L0000160.JPG\n",
      "Processing file L0000161.JPG\n"
     ]
    }
   ],
   "source": [
    "images, ids, backgrounds = load_images_and_backgrounds(folder, downsampled_folder)"
   ]
  },
  {
   "cell_type": "markdown",
   "metadata": {},
   "source": [
    "Predictions"
   ]
  },
  {
   "cell_type": "code",
   "execution_count": 68,
   "metadata": {},
   "outputs": [
    {
     "name": "stdout",
     "output_type": "stream",
     "text": [
      "L0000000\n",
      "L0000001\n",
      "L0000002\n",
      "L0000003\n",
      "L0000004\n",
      "L0000005\n",
      "L0000006\n",
      "L0000007\n",
      "L0000008\n",
      "L0000009\n",
      "L0000010\n",
      "L0000011\n",
      "L0000012\n",
      "L0000013\n",
      "L0000014\n",
      "L0000015\n",
      "L0000016\n",
      "L0000017\n",
      "L0000018\n",
      "L0000019\n",
      "L0000020\n",
      "L0000021\n",
      "L0000022\n",
      "L0000023\n",
      "L0000024\n",
      "L0000025\n",
      "L0000026\n",
      "L0000027\n",
      "L0000028\n",
      "L0000029\n",
      "L0000030\n",
      "L0000031\n",
      "L0000032\n",
      "L0000033\n",
      "L0000034\n",
      "L0000035\n",
      "L0000036\n",
      "L0000037\n",
      "L0000038\n",
      "L0000039\n",
      "L0000040\n",
      "L0000041\n",
      "L0000042\n",
      "L0000043\n",
      "L0000044\n",
      "L0000045\n",
      "L0000046\n",
      "L0000047\n",
      "L0000048\n",
      "L0000049\n",
      "L0000050\n",
      "L0000051\n",
      "L0000052\n",
      "L0000053\n",
      "L0000054\n",
      "L0000055\n",
      "L0000056\n",
      "L0000057\n",
      "L0000058\n",
      "L0000059\n",
      "L0000060\n",
      "L0000061\n",
      "L0000062\n",
      "L0000063\n",
      "L0000064\n",
      "L0000065\n",
      "L0000066\n",
      "L0000067\n",
      "L0000068\n",
      "L0000069\n",
      "L0000070\n",
      "L0000071\n",
      "L0000072\n",
      "L0000073\n",
      "L0000074\n",
      "L0000075\n",
      "L0000076\n",
      "L0000077\n",
      "L0000078\n",
      "L0000079\n",
      "L0000080\n",
      "L0000081\n",
      "L0000082\n",
      "L0000083\n",
      "L0000084\n",
      "L0000085\n",
      "L0000086\n",
      "L0000087\n",
      "L0000088\n",
      "L0000089\n",
      "L0000090\n",
      "L0000091\n",
      "L0000092\n",
      "L0000093\n",
      "L0000094\n",
      "L0000095\n",
      "L0000096\n",
      "L0000097\n",
      "L0000098\n",
      "L0000099\n",
      "L0000100\n",
      "L0000101\n",
      "L0000102\n",
      "L0000103\n",
      "L0000104\n",
      "L0000105\n",
      "L0000106\n",
      "L0000107\n",
      "L0000108\n",
      "L0000109\n",
      "L0000110\n",
      "L0000111\n",
      "L0000112\n",
      "L0000113\n",
      "L0000114\n",
      "L0000115\n",
      "L0000116\n",
      "L0000117\n",
      "L0000118\n",
      "L0000119\n",
      "L0000120\n",
      "L0000121\n",
      "L0000122\n",
      "L0000123\n",
      "L0000124\n",
      "L0000125\n",
      "L0000126\n",
      "L0000127\n",
      "L0000128\n",
      "L0000129\n",
      "L0000130\n",
      "L0000131\n",
      "L0000132\n",
      "L0000133\n",
      "L0000134\n",
      "L0000135\n",
      "L0000136\n",
      "L0000137\n",
      "L0000138\n",
      "L0000139\n",
      "L0000140\n",
      "L0000141\n",
      "L0000142\n",
      "L0000143\n",
      "L0000144\n",
      "L0000145\n",
      "L0000146\n",
      "L0000147\n",
      "L0000148\n",
      "L0000149\n",
      "L0000150\n",
      "L0000151\n",
      "L0000152\n",
      "L0000153\n",
      "L0000154\n",
      "L0000155\n",
      "L0000156\n",
      "L0000157\n",
      "L0000158\n",
      "L0000159\n",
      "L0000160\n",
      "L0000161\n"
     ]
    }
   ],
   "source": [
    "predictions, subclasses = predict(images, ids, backgrounds, model_path1, model_path2)"
   ]
  },
  {
   "cell_type": "code",
   "execution_count": 69,
   "metadata": {},
   "outputs": [
    {
     "data": {
      "text/plain": "{'L0000000': array([2., 1., 0.]),\n 'L0000001': array([6., 4., 0.]),\n 'L0000002': array([4., 0., 0.]),\n 'L0000003': array([4., 3., 1.]),\n 'L0000004': array([4., 2., 0.]),\n 'L0000005': array([7., 1., 0.]),\n 'L0000006': array([6., 0., 2.]),\n 'L0000007': array([6., 0., 0.]),\n 'L0000008': array([2., 1., 1.]),\n 'L0000009': array([1., 3., 0.]),\n 'L0000010': array([2., 2., 1.]),\n 'L0000011': array([4., 3., 1.]),\n 'L0000012': array([3., 3., 0.]),\n 'L0000013': array([1., 3., 1.]),\n 'L0000014': array([4., 1., 0.]),\n 'L0000015': array([1., 4., 0.]),\n 'L0000016': array([5., 1., 0.]),\n 'L0000017': array([5., 2., 0.]),\n 'L0000018': array([2., 3., 0.]),\n 'L0000019': array([2., 1., 0.]),\n 'L0000020': array([2., 2., 2.]),\n 'L0000021': array([1., 2., 0.]),\n 'L0000022': array([2., 4., 0.]),\n 'L0000023': array([6., 4., 1.]),\n 'L0000024': array([3., 2., 0.]),\n 'L0000025': array([1., 2., 0.]),\n 'L0000026': array([2., 4., 0.]),\n 'L0000027': array([4., 2., 0.]),\n 'L0000028': array([0., 1., 0.]),\n 'L0000029': array([2., 3., 0.]),\n 'L0000030': array([4., 4., 0.]),\n 'L0000031': array([0., 1., 0.]),\n 'L0000032': array([1., 2., 0.]),\n 'L0000033': array([2., 6., 1.]),\n 'L0000034': array([1., 3., 0.]),\n 'L0000035': array([0., 4., 0.]),\n 'L0000036': array([1., 2., 0.]),\n 'L0000037': array([1., 2., 2.]),\n 'L0000038': array([1., 2., 0.]),\n 'L0000039': array([0., 3., 1.]),\n 'L0000040': array([1., 2., 0.]),\n 'L0000041': array([3., 4., 0.]),\n 'L0000042': array([1., 5., 0.]),\n 'L0000043': array([0., 4., 0.]),\n 'L0000044': array([2., 0., 1.]),\n 'L0000045': array([5., 3., 1.]),\n 'L0000046': array([3., 2., 0.]),\n 'L0000047': array([1., 3., 1.]),\n 'L0000048': array([3., 2., 1.]),\n 'L0000049': array([1., 3., 2.]),\n 'L0000050': array([1., 2., 0.]),\n 'L0000051': array([0., 4., 0.]),\n 'L0000052': array([4., 0., 2.]),\n 'L0000053': array([3., 4., 0.]),\n 'L0000054': array([4., 0., 0.]),\n 'L0000055': array([2., 3., 0.]),\n 'L0000056': array([2., 4., 0.]),\n 'L0000057': array([2., 4., 0.]),\n 'L0000058': array([1., 1., 1.]),\n 'L0000059': array([ 4., 10.,  0.]),\n 'L0000060': array([6., 1., 0.]),\n 'L0000061': array([2., 3., 0.]),\n 'L0000062': array([2., 1., 2.]),\n 'L0000063': array([1., 0., 2.]),\n 'L0000064': array([2., 6., 0.]),\n 'L0000065': array([5., 2., 0.]),\n 'L0000066': array([0., 2., 1.]),\n 'L0000067': array([1., 2., 1.]),\n 'L0000068': array([1., 1., 1.]),\n 'L0000069': array([ 6., 13.,  1.]),\n 'L0000070': array([2., 2., 0.]),\n 'L0000071': array([6., 3., 0.]),\n 'L0000072': array([3., 1., 0.]),\n 'L0000073': array([4., 3., 1.]),\n 'L0000074': array([3., 1., 0.]),\n 'L0000075': array([3., 3., 0.]),\n 'L0000076': array([1., 2., 1.]),\n 'L0000077': array([4., 1., 0.]),\n 'L0000078': array([1., 1., 2.]),\n 'L0000079': array([1., 3., 0.]),\n 'L0000080': array([2., 1., 1.]),\n 'L0000081': array([1., 1., 1.]),\n 'L0000082': array([1., 2., 0.]),\n 'L0000083': array([4., 4., 0.]),\n 'L0000084': array([3., 2., 0.]),\n 'L0000085': array([4., 4., 0.]),\n 'L0000086': array([3., 4., 0.]),\n 'L0000087': array([2., 0., 1.]),\n 'L0000088': array([1., 1., 1.]),\n 'L0000089': array([3., 2., 0.]),\n 'L0000090': array([1., 6., 1.]),\n 'L0000091': array([2., 3., 0.]),\n 'L0000092': array([3., 2., 0.]),\n 'L0000093': array([1., 2., 1.]),\n 'L0000094': array([2., 1., 2.]),\n 'L0000095': array([6., 3., 0.]),\n 'L0000096': array([2., 3., 0.]),\n 'L0000097': array([2., 0., 2.]),\n 'L0000098': array([2., 3., 0.]),\n 'L0000099': array([2., 2., 0.]),\n 'L0000100': array([9., 7., 1.]),\n 'L0000101': array([5., 4., 0.]),\n 'L0000102': array([2., 0., 0.]),\n 'L0000103': array([1., 1., 0.]),\n 'L0000104': array([5., 2., 0.]),\n 'L0000105': array([3., 2., 0.]),\n 'L0000106': array([5., 3., 0.]),\n 'L0000107': array([3., 1., 1.]),\n 'L0000108': array([1., 0., 1.]),\n 'L0000109': array([3., 4., 0.]),\n 'L0000110': array([0., 3., 2.]),\n 'L0000111': array([2., 2., 0.]),\n 'L0000112': array([7., 3., 0.]),\n 'L0000113': array([3., 2., 0.]),\n 'L0000114': array([1., 3., 0.]),\n 'L0000115': array([1., 3., 0.]),\n 'L0000116': array([2., 5., 0.]),\n 'L0000117': array([0., 3., 0.]),\n 'L0000118': array([5., 6., 0.]),\n 'L0000119': array([3., 3., 0.]),\n 'L0000120': array([1., 3., 0.]),\n 'L0000121': array([1., 4., 0.]),\n 'L0000122': array([2., 2., 1.]),\n 'L0000123': array([0., 3., 2.]),\n 'L0000124': array([1., 3., 1.]),\n 'L0000125': array([3., 3., 0.]),\n 'L0000126': array([2., 1., 0.]),\n 'L0000127': array([0., 4., 0.]),\n 'L0000128': array([1., 2., 0.]),\n 'L0000129': array([1., 3., 0.]),\n 'L0000130': array([2., 1., 1.]),\n 'L0000131': array([4., 1., 0.]),\n 'L0000132': array([0., 1., 0.]),\n 'L0000133': array([1., 0., 0.]),\n 'L0000134': array([3., 2., 0.]),\n 'L0000135': array([1., 2., 0.]),\n 'L0000136': array([2., 1., 0.]),\n 'L0000137': array([5., 3., 0.]),\n 'L0000138': array([5., 4., 0.]),\n 'L0000139': array([1., 6., 0.]),\n 'L0000140': array([2., 1., 1.]),\n 'L0000141': array([2., 3., 1.]),\n 'L0000142': array([0., 3., 0.]),\n 'L0000143': array([3., 2., 1.]),\n 'L0000144': array([2., 3., 0.]),\n 'L0000145': array([5., 4., 0.]),\n 'L0000146': array([3., 2., 0.]),\n 'L0000147': array([3., 2., 1.]),\n 'L0000148': array([1., 3., 0.]),\n 'L0000149': array([1., 3., 0.]),\n 'L0000150': array([4., 3., 0.]),\n 'L0000151': array([2., 6., 0.]),\n 'L0000152': array([1., 2., 1.]),\n 'L0000153': array([1., 3., 0.]),\n 'L0000154': array([2., 1., 1.]),\n 'L0000155': array([1., 0., 0.]),\n 'L0000156': array([0., 2., 1.]),\n 'L0000157': array([2., 2., 0.]),\n 'L0000158': array([4., 3., 0.]),\n 'L0000159': array([0., 1., 1.]),\n 'L0000160': array([3., 4., 0.]),\n 'L0000161': array([2., 6., 1.])}"
     },
     "execution_count": 69,
     "metadata": {},
     "output_type": "execute_result"
    }
   ],
   "source": [
    "predictions"
   ]
  },
  {
   "cell_type": "markdown",
   "metadata": {},
   "source": [
    "id,5CHF,2CHF,1CHF,0.5CHF,0.2CHF,0.1CHF,0.05CHF,2EUR,1EUR,0.5EUR,0.2EUR,0.1EUR,0.05EUR,0.02EUR,0.01EUR,OOD\n"
   ]
  },
  {
   "cell_type": "code",
   "execution_count": 70,
   "metadata": {},
   "outputs": [
    {
     "data": {
      "text/plain": "{'L0000000': array([0., 0., 0., 0., 1., 1., 0., 1., 0., 0., 0., 0., 0., 0., 0., 0.]),\n 'L0000001': array([0., 1., 1., 1., 2., 0., 1., 0., 2., 1., 0., 0., 1., 0., 0., 0.]),\n 'L0000002': array([2., 0., 1., 1., 0., 0., 0., 0., 0., 0., 0., 0., 0., 0., 0., 0.]),\n 'L0000003': array([0., 0., 0., 3., 0., 0., 1., 0., 0., 0., 0., 1., 2., 0., 0., 1.]),\n 'L0000004': array([0., 0., 1., 1., 1., 1., 0., 0., 1., 0., 0., 0., 1., 0., 0., 0.]),\n 'L0000005': array([1., 0., 1., 1., 3., 1., 0., 0., 0., 0., 0., 0., 1., 0., 0., 0.]),\n 'L0000006': array([1., 1., 2., 1., 0., 1., 0., 0., 0., 0., 0., 0., 0., 0., 0., 2.]),\n 'L0000007': array([0., 0., 3., 1., 0., 1., 1., 0., 0., 0., 0., 0., 0., 0., 0., 0.]),\n 'L0000008': array([0., 1., 0., 1., 0., 0., 0., 1., 0., 0., 0., 0., 0., 0., 0., 1.]),\n 'L0000009': array([0., 0., 0., 0., 1., 0., 0., 0., 0., 1., 1., 1., 0., 0., 0., 0.]),\n 'L0000010': array([0., 0., 0., 0., 0., 2., 0., 1., 0., 0., 0., 1., 0., 0., 0., 1.]),\n 'L0000011': array([1., 1., 0., 1., 1., 0., 0., 2., 0., 0., 0., 1., 0., 0., 0., 1.]),\n 'L0000012': array([0., 0., 0., 0., 2., 1., 0., 0., 0., 2., 0., 1., 0., 0., 0., 0.]),\n 'L0000013': array([0., 0., 1., 0., 0., 0., 0., 0., 0., 0., 0., 0., 1., 0., 2., 1.]),\n 'L0000014': array([0., 1., 1., 1., 0., 1., 0., 1., 0., 0., 0., 0., 0., 0., 0., 0.]),\n 'L0000015': array([0., 0., 0., 0., 0., 0., 1., 0., 0., 0., 0., 1., 3., 0., 0., 0.]),\n 'L0000016': array([0., 0., 1., 3., 1., 0., 0., 0., 0., 0., 0., 0., 0., 1., 0., 0.]),\n 'L0000017': array([1., 0., 2., 0., 0., 1., 1., 0., 0., 0., 1., 0., 1., 0., 0., 0.]),\n 'L0000018': array([0., 0., 0., 1., 0., 1., 0., 0., 0., 0., 1., 2., 0., 0., 0., 0.]),\n 'L0000019': array([1., 1., 0., 0., 0., 0., 0., 0., 0., 0., 0., 1., 0., 0., 0., 0.]),\n 'L0000020': array([0., 0., 1., 0., 1., 0., 0., 0., 0., 1., 0., 0., 1., 0., 0., 2.]),\n 'L0000021': array([0., 0., 1., 0., 0., 0., 0., 2., 0., 0., 0., 0., 0., 0., 0., 0.]),\n 'L0000022': array([0., 1., 0., 0., 1., 0., 0., 1., 0., 0., 1., 1., 0., 0., 1., 0.]),\n 'L0000023': array([1., 1., 1., 2., 1., 0., 0., 1., 0., 1., 1., 0., 0., 1., 0., 1.]),\n 'L0000024': array([0., 0., 0., 0., 2., 0., 1., 0., 0., 1., 1., 0., 0., 0., 0., 0.]),\n 'L0000025': array([0., 0., 1., 0., 0., 0., 0., 2., 0., 0., 0., 0., 0., 0., 0., 0.]),\n 'L0000026': array([0., 0., 1., 0., 0., 0., 1., 0., 0., 1., 1., 2., 0., 0., 0., 0.]),\n 'L0000027': array([0., 2., 0., 0., 2., 0., 0., 0., 1., 1., 0., 0., 0., 0., 0., 0.]),\n 'L0000028': array([0., 0., 0., 0., 0., 0., 0., 0., 0., 0., 0., 0., 0., 0., 1., 0.]),\n 'L0000029': array([1., 0., 0., 0., 1., 0., 0., 1., 0., 0., 1., 0., 1., 0., 0., 0.]),\n 'L0000030': array([1., 0., 1., 1., 0., 0., 1., 0., 0., 0., 0., 0., 2., 1., 1., 0.]),\n 'L0000031': array([0., 0., 0., 0., 0., 0., 0., 0., 0., 1., 0., 0., 0., 0., 0., 0.]),\n 'L0000032': array([1., 0., 0., 0., 0., 0., 0., 1., 0., 0., 0., 0., 0., 0., 1., 0.]),\n 'L0000033': array([0., 1., 0., 0., 0., 0., 1., 0., 0., 0., 2., 0., 2., 1., 1., 1.]),\n 'L0000034': array([0., 1., 0., 0., 0., 0., 0., 0., 0., 1., 0., 0., 0., 2., 0., 0.]),\n 'L0000035': array([0., 0., 0., 0., 0., 0., 0., 1., 0., 1., 2., 0., 0., 0., 0., 0.]),\n 'L0000036': array([0., 0., 1., 0., 0., 0., 0., 0., 0., 1., 1., 0., 0., 0., 0., 0.]),\n 'L0000037': array([0., 0., 0., 0., 0., 0., 1., 1., 0., 0., 0., 0., 0., 1., 0., 2.]),\n 'L0000038': array([1., 0., 0., 0., 0., 0., 0., 0., 0., 0., 1., 1., 0., 0., 0., 0.]),\n 'L0000039': array([0., 0., 0., 0., 0., 0., 0., 0., 0., 1., 0., 1., 0., 1., 0., 1.]),\n 'L0000040': array([1., 0., 0., 0., 0., 0., 0., 0., 0., 0., 0., 0., 1., 1., 0., 0.]),\n 'L0000041': array([0., 0., 0., 2., 0., 1., 0., 1., 0., 0., 0., 0., 0., 1., 2., 0.]),\n 'L0000042': array([0., 0., 0., 0., 1., 0., 0., 1., 0., 0., 1., 1., 0., 0., 2., 0.]),\n 'L0000043': array([0., 0., 0., 0., 0., 0., 0., 1., 0., 0., 1., 0., 1., 1., 0., 0.]),\n 'L0000044': array([0., 0., 1., 1., 0., 0., 0., 0., 0., 0., 0., 0., 0., 0., 0., 1.]),\n 'L0000045': array([0., 0., 0., 3., 1., 0., 1., 0., 0., 0., 1., 2., 0., 0., 0., 1.]),\n 'L0000046': array([1., 1., 1., 0., 0., 0., 0., 0., 0., 0., 0., 0., 2., 0., 0., 0.]),\n 'L0000047': array([0., 0., 0., 0., 1., 0., 0., 0., 0., 1., 0., 1., 0., 1., 0., 1.]),\n 'L0000048': array([1., 1., 0., 0., 1., 0., 0., 0., 0., 0., 0., 1., 0., 1., 0., 1.]),\n 'L0000049': array([0., 1., 0., 0., 0., 0., 0., 0., 0., 0., 2., 1., 0., 0., 0., 2.]),\n 'L0000050': array([0., 0., 0., 0., 1., 0., 0., 0., 0., 0., 1., 0., 1., 0., 0., 0.]),\n 'L0000051': array([0., 0., 0., 0., 0., 0., 0., 1., 0., 0., 0., 1., 2., 0., 0., 0.]),\n 'L0000052': array([1., 0., 2., 0., 0., 1., 0., 0., 0., 0., 0., 0., 0., 0., 0., 2.]),\n 'L0000053': array([0., 0., 0., 1., 1., 0., 1., 0., 0., 2., 0., 1., 0., 0., 1., 0.]),\n 'L0000054': array([0., 2., 0., 1., 0., 0., 1., 0., 0., 0., 0., 0., 0., 0., 0., 0.]),\n 'L0000055': array([0., 2., 0., 0., 0., 0., 0., 1., 1., 0., 1., 0., 0., 0., 0., 0.]),\n 'L0000056': array([1., 0., 0., 0., 1., 0., 0., 2., 0., 1., 0., 0., 1., 0., 0., 0.]),\n 'L0000057': array([0., 1., 0., 0., 0., 0., 1., 1., 1., 1., 0., 0., 1., 0., 0., 0.]),\n 'L0000058': array([1., 0., 0., 0., 0., 0., 0., 1., 0., 0., 0., 0., 0., 0., 0., 1.]),\n 'L0000059': array([1., 2., 0., 1., 0., 0., 0., 2., 0., 1., 1., 1., 3., 1., 1., 0.]),\n 'L0000060': array([0., 2., 2., 0., 1., 1., 0., 0., 0., 0., 0., 1., 0., 0., 0., 0.]),\n 'L0000061': array([1., 1., 0., 0., 0., 0., 0., 1., 1., 0., 1., 0., 0., 0., 0., 0.]),\n 'L0000062': array([0., 1., 0., 1., 0., 0., 0., 1., 0., 0., 0., 0., 0., 0., 0., 2.]),\n 'L0000063': array([0., 1., 0., 0., 0., 0., 0., 0., 0., 0., 0., 0., 0., 0., 0., 2.]),\n 'L0000064': array([1., 0., 1., 0., 0., 0., 0., 1., 1., 2., 1., 0., 1., 0., 0., 0.]),\n 'L0000065': array([2., 0., 0., 1., 0., 0., 2., 1., 0., 0., 1., 0., 0., 0., 0., 0.]),\n 'L0000066': array([0., 0., 0., 0., 0., 0., 0., 0., 0., 0., 1., 1., 0., 0., 0., 1.]),\n 'L0000067': array([0., 1., 0., 0., 0., 0., 0., 0., 0., 0., 2., 0., 0., 0., 0., 1.]),\n 'L0000068': array([0., 0., 1., 0., 0., 0., 0., 0., 1., 0., 0., 0., 0., 0., 0., 1.]),\n 'L0000069': array([1., 0., 1., 2., 1., 1., 0., 3., 1., 5., 1., 1., 2., 0., 0., 1.]),\n 'L0000070': array([0., 0., 1., 0., 1., 0., 0., 0., 0., 1., 0., 1., 0., 0., 0., 0.]),\n 'L0000071': array([0., 0., 1., 2., 3., 0., 0., 1., 0., 0., 0., 2., 0., 0., 0., 0.]),\n 'L0000072': array([0., 1., 0., 1., 0., 0., 1., 1., 0., 0., 0., 0., 0., 0., 0., 0.]),\n 'L0000073': array([0., 0., 2., 1., 0., 0., 1., 0., 0., 0., 1., 2., 0., 0., 0., 1.]),\n 'L0000074': array([1., 0., 0., 0., 2., 0., 0., 1., 0., 0., 0., 0., 0., 0., 0., 0.]),\n 'L0000075': array([1., 1., 0., 1., 0., 0., 0., 0., 0., 0., 0., 0., 2., 1., 0., 0.]),\n 'L0000076': array([0., 1., 0., 0., 0., 0., 0., 0., 0., 0., 1., 0., 1., 0., 0., 1.]),\n 'L0000077': array([1., 0., 2., 0., 0., 0., 1., 1., 0., 0., 0., 0., 0., 0., 0., 0.]),\n 'L0000078': array([0., 0., 0., 0., 1., 0., 0., 0., 1., 0., 0., 0., 0., 0., 0., 2.]),\n 'L0000079': array([0., 0., 1., 0., 0., 0., 0., 1., 0., 0., 0., 0., 1., 0., 1., 0.]),\n 'L0000080': array([0., 0., 1., 0., 0., 1., 0., 1., 0., 0., 0., 0., 0., 0., 0., 1.]),\n 'L0000081': array([1., 0., 0., 0., 0., 0., 0., 0., 0., 0., 0., 0., 1., 0., 0., 1.]),\n 'L0000082': array([0., 1., 0., 0., 0., 0., 0., 1., 0., 1., 0., 0., 0., 0., 0., 0.]),\n 'L0000083': array([0., 2., 0., 1., 0., 1., 0., 0., 1., 0., 2., 1., 0., 0., 0., 0.]),\n 'L0000084': array([0., 0., 2., 1., 0., 0., 0., 1., 0., 0., 0., 0., 1., 0., 0., 0.]),\n 'L0000085': array([0., 1., 1., 1., 1., 0., 0., 0., 0., 2., 2., 0., 0., 0., 0., 0.]),\n 'L0000086': array([0., 1., 1., 0., 0., 0., 1., 1., 0., 0., 3., 0., 0., 0., 0., 0.]),\n 'L0000087': array([0., 1., 0., 0., 0., 0., 1., 0., 0., 0., 0., 0., 0., 0., 0., 1.]),\n 'L0000088': array([0., 0., 0., 1., 0., 0., 0., 0., 0., 0., 0., 1., 0., 0., 0., 1.]),\n 'L0000089': array([1., 0., 0., 1., 0., 0., 1., 0., 1., 0., 1., 0., 0., 0., 0., 0.]),\n 'L0000090': array([0., 0., 0., 0., 0., 0., 1., 1., 0., 1., 1., 0., 2., 0., 1., 1.]),\n 'L0000091': array([0., 0., 0., 1., 0., 1., 0., 0., 0., 1., 0., 1., 1., 0., 0., 0.]),\n 'L0000092': array([1., 0., 1., 1., 0., 0., 0., 0., 0., 1., 0., 0., 0., 1., 0., 0.]),\n 'L0000093': array([0., 0., 0., 1., 0., 0., 0., 0., 0., 0., 1., 0., 1., 0., 0., 1.]),\n 'L0000094': array([0., 1., 0., 0., 1., 0., 0., 1., 0., 0., 0., 0., 0., 0., 0., 2.]),\n 'L0000095': array([0., 0., 1., 5., 0., 0., 0., 1., 0., 1., 0., 1., 0., 0., 0., 0.]),\n 'L0000096': array([0., 0., 1., 1., 0., 0., 0., 1., 0., 0., 0., 1., 0., 0., 1., 0.]),\n 'L0000097': array([2., 0., 0., 0., 0., 0., 0., 0., 0., 0., 0., 0., 0., 0., 0., 2.]),\n 'L0000098': array([0., 0., 0., 0., 1., 0., 1., 1., 1., 0., 0., 1., 0., 0., 0., 0.]),\n 'L0000099': array([0., 0., 0., 1., 1., 0., 0., 0., 0., 1., 0., 1., 0., 0., 0., 0.]),\n 'L0000100': array([2., 0., 0., 2., 3., 2., 0., 1., 0., 2., 1., 1., 0., 1., 1., 1.]),\n 'L0000101': array([0., 1., 1., 1., 1., 0., 1., 0., 0., 1., 0., 1., 1., 1., 0., 0.]),\n 'L0000102': array([2., 0., 0., 0., 0., 0., 0., 0., 0., 0., 0., 0., 0., 0., 0., 0.]),\n 'L0000103': array([0., 0., 1., 0., 0., 0., 0., 0., 0., 1., 0., 0., 0., 0., 0., 0.]),\n 'L0000104': array([1., 2., 1., 0., 1., 0., 0., 1., 0., 0., 0., 1., 0., 0., 0., 0.]),\n 'L0000105': array([2., 0., 0., 0., 0., 0., 1., 0., 0., 0., 1., 1., 0., 0., 0., 0.]),\n 'L0000106': array([0., 0., 3., 1., 0., 1., 0., 0., 0., 0., 1., 0., 0., 2., 0., 0.]),\n 'L0000107': array([0., 0., 0., 0., 2., 1., 0., 0., 0., 0., 0., 0., 0., 0., 1., 1.]),\n 'L0000108': array([1., 0., 0., 0., 0., 0., 0., 0., 0., 0., 0., 0., 0., 0., 0., 1.]),\n 'L0000109': array([0., 0., 1., 0., 1., 0., 1., 0., 0., 1., 0., 2., 0., 1., 0., 0.]),\n 'L0000110': array([0., 0., 0., 0., 0., 0., 0., 0., 0., 2., 1., 0., 0., 0., 0., 2.]),\n 'L0000111': array([1., 0., 1., 0., 0., 0., 0., 0., 0., 0., 0., 1., 0., 1., 0., 0.]),\n 'L0000112': array([1., 1., 0., 2., 0., 1., 2., 0., 0., 0., 2., 0., 1., 0., 0., 0.]),\n 'L0000113': array([2., 1., 0., 0., 0., 0., 0., 1., 0., 0., 1., 0., 0., 0., 0., 0.]),\n 'L0000114': array([0., 0., 0., 0., 1., 0., 0., 0., 0., 0., 0., 2., 1., 0., 0., 0.]),\n 'L0000115': array([0., 0., 0., 0., 0., 1., 0., 0., 0., 1., 0., 1., 0., 0., 1., 0.]),\n 'L0000116': array([0., 0., 1., 1., 0., 0., 0., 1., 0., 0., 0., 0., 3., 0., 1., 0.]),\n 'L0000117': array([0., 0., 0., 0., 0., 0., 0., 2., 0., 0., 1., 0., 0., 0., 0., 0.]),\n 'L0000118': array([0., 0., 1., 4., 0., 0., 0., 1., 1., 2., 0., 1., 1., 0., 0., 0.]),\n 'L0000119': array([0., 0., 0., 1., 1., 1., 0., 0., 0., 0., 1., 0., 1., 1., 0., 0.]),\n 'L0000120': array([0., 0., 0., 0., 1., 0., 0., 1., 0., 0., 0., 0., 0., 0., 2., 0.]),\n 'L0000121': array([0., 0., 0., 0., 0., 1., 0., 0., 1., 1., 1., 0., 0., 0., 1., 0.]),\n 'L0000122': array([0., 1., 0., 1., 0., 0., 0., 0., 1., 0., 0., 0., 0., 1., 0., 1.]),\n 'L0000123': array([0., 0., 0., 0., 0., 0., 0., 1., 0., 0., 0., 0., 1., 1., 0., 2.]),\n 'L0000124': array([0., 1., 0., 0., 0., 0., 0., 1., 0., 0., 0., 0., 1., 1., 0., 1.]),\n 'L0000125': array([1., 1., 0., 0., 0., 1., 0., 0., 0., 1., 1., 0., 1., 0., 0., 0.]),\n 'L0000126': array([1., 0., 0., 0., 0., 0., 1., 0., 0., 1., 0., 0., 0., 0., 0., 0.]),\n 'L0000127': array([0., 0., 0., 0., 0., 0., 0., 1., 0., 1., 0., 0., 1., 0., 1., 0.]),\n 'L0000128': array([1., 0., 0., 0., 0., 0., 0., 0., 0., 2., 0., 0., 0., 0., 0., 0.]),\n 'L0000129': array([0., 0., 0., 1., 0., 0., 0., 1., 0., 0., 0., 0., 0., 1., 1., 0.]),\n 'L0000130': array([0., 0., 0., 2., 0., 0., 0., 0., 0., 1., 0., 0., 0., 0., 0., 1.]),\n 'L0000131': array([0., 0., 2., 2., 0., 0., 0., 0., 1., 0., 0., 0., 0., 0., 0., 0.]),\n 'L0000132': array([0., 0., 0., 0., 0., 0., 0., 0., 0., 0., 0., 0., 1., 0., 0., 0.]),\n 'L0000133': array([1., 0., 0., 0., 0., 0., 0., 0., 0., 0., 0., 0., 0., 0., 0., 0.]),\n 'L0000134': array([1., 0., 0., 0., 1., 0., 1., 0., 0., 1., 0., 0., 0., 1., 0., 0.]),\n 'L0000135': array([0., 0., 1., 0., 0., 0., 0., 0., 0., 0., 0., 2., 0., 0., 0., 0.]),\n 'L0000136': array([0., 1., 1., 0., 0., 0., 0., 0., 0., 0., 1., 0., 0., 0., 0., 0.]),\n 'L0000137': array([0., 0., 0., 2., 1., 0., 2., 1., 1., 0., 1., 0., 0., 0., 0., 0.]),\n 'L0000138': array([0., 1., 2., 1., 0., 0., 1., 1., 1., 0., 0., 1., 0., 0., 1., 0.]),\n 'L0000139': array([0., 1., 0., 0., 0., 0., 0., 0., 0., 1., 1., 1., 1., 1., 1., 0.]),\n 'L0000140': array([0., 1., 1., 0., 0., 0., 0., 1., 0., 0., 0., 0., 0., 0., 0., 1.]),\n 'L0000141': array([0., 0., 1., 0., 0., 1., 0., 0., 1., 0., 0., 1., 1., 0., 0., 1.]),\n 'L0000142': array([0., 0., 0., 0., 0., 0., 0., 2., 0., 0., 0., 1., 0., 0., 0., 0.]),\n 'L0000143': array([0., 1., 0., 1., 0., 1., 0., 0., 0., 0., 1., 0., 0., 1., 0., 1.]),\n 'L0000144': array([0., 0., 0., 2., 0., 0., 0., 1., 0., 0., 1., 0., 1., 0., 0., 0.]),\n 'L0000145': array([1., 1., 0., 1., 1., 1., 0., 0., 0., 1., 1., 0., 1., 1., 0., 0.]),\n 'L0000146': array([0., 0., 0., 2., 0., 0., 1., 1., 0., 0., 1., 0., 0., 0., 0., 0.]),\n 'L0000147': array([0., 0., 0., 1., 1., 1., 0., 0., 1., 1., 0., 0., 0., 0., 0., 1.]),\n 'L0000148': array([0., 1., 0., 0., 0., 0., 0., 0., 0., 1., 0., 0., 2., 0., 0., 0.]),\n 'L0000149': array([0., 0., 0., 1., 0., 0., 0., 0., 0., 0., 2., 1., 0., 0., 0., 0.]),\n 'L0000150': array([1., 0., 1., 0., 0., 1., 1., 0., 0., 1., 0., 0., 0., 2., 0., 0.]),\n 'L0000151': array([0., 0., 0., 2., 0., 0., 0., 0., 2., 1., 1., 1., 0., 1., 0., 0.]),\n 'L0000152': array([0., 1., 0., 0., 0., 0., 0., 0., 0., 1., 0., 0., 0., 0., 1., 1.]),\n 'L0000153': array([0., 0., 0., 0., 1., 0., 0., 1., 0., 0., 1., 0., 1., 0., 0., 0.]),\n 'L0000154': array([0., 1., 0., 1., 0., 0., 0., 1., 0., 0., 0., 0., 0., 0., 0., 1.]),\n 'L0000155': array([1., 0., 0., 0., 0., 0., 0., 0., 0., 0., 0., 0., 0., 0., 0., 0.]),\n 'L0000156': array([0., 0., 0., 0., 0., 0., 0., 0., 0., 1., 1., 0., 0., 0., 0., 1.]),\n 'L0000157': array([0., 1., 0., 0., 1., 0., 0., 2., 0., 0., 0., 0., 0., 0., 0., 0.]),\n 'L0000158': array([1., 0., 0., 0., 0., 2., 1., 0., 0., 1., 0., 0., 2., 0., 0., 0.]),\n 'L0000159': array([0., 0., 0., 0., 0., 0., 0., 0., 1., 0., 0., 0., 0., 0., 0., 1.]),\n 'L0000160': array([0., 0., 0., 1., 0., 1., 1., 0., 0., 0., 2., 2., 0., 0., 0., 0.]),\n 'L0000161': array([0., 0., 0., 1., 0., 0., 1., 0., 0., 1., 2., 1., 2., 0., 0., 1.])}"
     },
     "execution_count": 70,
     "metadata": {},
     "output_type": "execute_result"
    }
   ],
   "source": [
    "subclasses"
   ]
  },
  {
   "cell_type": "code",
   "execution_count": 72,
   "metadata": {},
   "outputs": [],
   "source": [
    "generate_csv_file(subclasses, csv_path)"
   ]
  },
  {
   "cell_type": "markdown",
   "metadata": {},
   "source": [
    "CHF predictions"
   ]
  },
  {
   "cell_type": "code",
   "execution_count": 62,
   "metadata": {},
   "outputs": [
    {
     "data": {
      "text/plain": "(81, 17)"
     },
     "execution_count": 62,
     "metadata": {},
     "output_type": "execute_result"
    }
   ],
   "source": [
    "import pandas as pd\n",
    "# Load the CSV file into a pandas DataFrame\n",
    "df = pd.read_csv(csv_file)\n",
    "#df.drop(df.columns[8:17], axis=1, inplace=True)\n",
    "\n",
    "selected_rows = df[df['id'].isin(subclasses.keys())]\n",
    "selected_rows.shape"
   ]
  },
  {
   "cell_type": "code",
   "execution_count": 63,
   "metadata": {},
   "outputs": [
    {
     "name": "stdout",
     "output_type": "stream",
     "text": [
      "L1010277\n",
      "[1, 0, 0, 0, 0, 0, 0, 1, 0, 1, 2, 0, 0, 0, 0, 0]\n",
      "[1. 0. 0. 0. 0. 0. 0. 1. 0. 1. 2. 0. 0. 0. 0. 0.]\n",
      "L1010279\n",
      "[0, 1, 0, 1, 1, 1, 0, 0, 0, 0, 0, 0, 0, 0, 0, 0]\n",
      "[0. 1. 0. 1. 1. 1. 0. 0. 0. 0. 0. 0. 0. 0. 0. 0.]\n",
      "L1010281\n",
      "[0, 0, 0, 0, 2, 3, 1, 0, 0, 0, 0, 0, 2, 0, 0, 0]\n",
      "[0. 0. 0. 2. 2. 1. 1. 0. 0. 0. 0. 0. 2. 0. 0. 0.]\n",
      "L1010283\n",
      "[0, 0, 0, 1, 0, 0, 0, 1, 0, 2, 1, 0, 1, 0, 0, 0]\n",
      "[0. 0. 0. 1. 0. 0. 0. 1. 0. 2. 1. 0. 1. 0. 0. 0.]\n",
      "L1010287\n",
      "[0, 1, 1, 0, 0, 0, 1, 0, 0, 0, 0, 2, 1, 1, 1, 0]\n",
      "[0. 1. 1. 0. 0. 0. 1. 0. 0. 0. 0. 2. 1. 1. 1. 0.]\n",
      "L1010288\n",
      "[0, 1, 0, 0, 1, 0, 0, 1, 0, 0, 0, 0, 1, 1, 0, 0]\n",
      "[0. 1. 0. 0. 1. 0. 0. 1. 0. 0. 0. 0. 2. 0. 0. 0.]\n",
      "L1010294\n",
      "[1, 0, 1, 0, 0, 1, 0, 0, 0, 1, 1, 0, 0, 0, 0, 0]\n",
      "[1. 0. 1. 0. 0. 1. 0. 0. 0. 1. 1. 0. 0. 0. 0. 0.]\n",
      "L1010297\n",
      "[0, 1, 0, 0, 0, 0, 0, 1, 0, 1, 0, 1, 0, 0, 0, 0]\n",
      "[0. 1. 0. 0. 0. 0. 0. 1. 0. 2. 0. 0. 0. 0. 0. 0.]\n",
      "L1010298\n",
      "[0, 2, 1, 2, 0, 0, 0, 0, 0, 0, 0, 0, 0, 0, 0, 0]\n",
      "[0. 2. 1. 2. 0. 0. 0. 0. 0. 0. 0. 0. 0. 0. 0. 0.]\n",
      "L1010300\n",
      "[0, 1, 0, 0, 0, 0, 0, 1, 0, 2, 0, 1, 0, 0, 0, 0]\n",
      "[0. 0. 1. 0. 0. 0. 0. 1. 0. 2. 0. 1. 0. 0. 0. 0.]\n",
      "L1010308\n",
      "[1, 0, 0, 0, 0, 0, 0, 1, 0, 0, 2, 1, 2, 2, 0, 0]\n",
      "[1. 0. 0. 0. 0. 0. 0. 1. 0. 0. 2. 1. 2. 2. 0. 0.]\n",
      "L1010310\n",
      "[0, 0, 1, 1, 0, 0, 1, 2, 0, 1, 0, 0, 0, 1, 0, 0]\n",
      "[0. 0. 1. 1. 0. 0. 1. 2. 0. 1. 0. 0. 0. 1. 0. 0.]\n",
      "L1010311\n",
      "[0, 2, 1, 0, 0, 0, 0, 1, 0, 0, 1, 1, 0, 0, 0, 0]\n",
      "[0. 2. 1. 0. 0. 0. 0. 1. 0. 0. 1. 1. 0. 0. 0. 0.]\n",
      "L1010318\n",
      "[1, 1, 1, 0, 0, 1, 3, 0, 0, 0, 1, 1, 0, 0, 2, 0]\n",
      "[1. 1. 1. 0. 0. 1. 3. 0. 0. 0. 1. 1. 0. 0. 2. 0.]\n",
      "L1010321\n",
      "[0, 0, 1, 2, 0, 0, 0, 1, 2, 0, 2, 1, 0, 0, 0, 0]\n",
      "[0. 0. 1. 2. 0. 0. 0. 1. 2. 0. 2. 1. 0. 0. 0. 0.]\n",
      "L1010323\n",
      "[0, 0, 0, 0, 0, 0, 0, 1, 1, 1, 1, 1, 1, 1, 1, 0]\n",
      "[0. 0. 0. 0. 0. 0. 0. 1. 1. 2. 1. 0. 1. 2. 0. 0.]\n",
      "L1010325\n",
      "[1, 0, 0, 0, 0, 0, 0, 0, 0, 1, 0, 0, 2, 0, 1, 0]\n",
      "[1. 0. 0. 0. 0. 0. 0. 0. 0. 1. 0. 0. 2. 0. 1. 0.]\n",
      "L1010328\n",
      "[0, 1, 0, 1, 0, 0, 0, 0, 0, 1, 0, 1, 0, 0, 0, 0]\n",
      "[0. 1. 0. 1. 0. 0. 0. 0. 0. 1. 0. 1. 0. 0. 0. 0.]\n",
      "L1010331\n",
      "[1, 0, 0, 0, 0, 0, 0, 0, 1, 2, 0, 0, 1, 2, 1, 0]\n",
      "[1. 0. 0. 0. 0. 0. 0. 0. 1. 2. 0. 0. 1. 2. 1. 0.]\n",
      "L1010335\n",
      "[0, 0, 1, 0, 0, 0, 0, 0, 1, 0, 2, 0, 0, 0, 0, 0]\n",
      "[0. 0. 0. 0. 1. 0. 0. 0. 1. 0. 2. 0. 0. 0. 0. 0.]\n",
      "L1010341\n",
      "[0, 1, 2, 0, 0, 1, 0, 0, 0, 0, 0, 0, 0, 0, 0, 0]\n",
      "[0. 1. 1. 1. 1. 0. 0. 0. 0. 0. 0. 0. 0. 0. 0. 0.]\n",
      "L1010345\n",
      "[0, 0, 0, 0, 0, 0, 0, 0, 0, 0, 0, 0, 3, 0, 0, 0]\n",
      "[0. 0. 0. 0. 0. 0. 0. 0. 0. 0. 0. 0. 3. 0. 0. 0.]\n",
      "L1010349\n",
      "[1, 0, 0, 0, 1, 0, 0, 1, 0, 0, 0, 0, 1, 0, 0, 0]\n",
      "[1. 0. 0. 0. 1. 0. 0. 1. 0. 0. 0. 0. 1. 0. 0. 0.]\n",
      "L1010352\n",
      "[0, 0, 0, 0, 0, 0, 1, 0, 0, 0, 0, 1, 0, 0, 1, 0]\n",
      "[0. 0. 0. 0. 0. 0. 1. 0. 0. 0. 0. 1. 0. 0. 1. 0.]\n",
      "L1010353\n",
      "[0, 0, 0, 0, 0, 0, 0, 0, 0, 0, 2, 0, 0, 0, 1, 0]\n",
      "[0. 0. 0. 0. 0. 0. 0. 0. 0. 0. 2. 0. 0. 0. 1. 0.]\n",
      "L1010356\n",
      "[0, 0, 0, 0, 0, 0, 1, 1, 0, 1, 1, 1, 0, 1, 0, 0]\n",
      "[0. 0. 0. 0. 0. 0. 1. 1. 0. 1. 1. 1. 0. 1. 0. 0.]\n",
      "L1010361\n",
      "[0, 0, 0, 0, 0, 0, 1, 0, 0, 0, 0, 0, 0, 0, 0, 0]\n",
      "[0. 0. 0. 0. 0. 0. 1. 0. 0. 0. 0. 0. 0. 0. 0. 0.]\n",
      "L1010365\n",
      "[0, 0, 0, 0, 0, 2, 0, 0, 0, 0, 0, 1, 0, 0, 0, 0]\n",
      "[0. 0. 0. 2. 0. 0. 0. 0. 0. 0. 0. 1. 0. 0. 0. 0.]\n",
      "L1010367\n",
      "[0, 1, 0, 1, 1, 1, 0, 0, 1, 1, 0, 1, 0, 0, 1, 0]\n",
      "[0. 0. 1. 1. 1. 1. 0. 0. 1. 1. 0. 1. 0. 0. 1. 0.]\n",
      "L1010369\n",
      "[1, 0, 1, 1, 1, 0, 0, 0, 1, 2, 1, 1, 0, 0, 0, 0]\n",
      "[0. 1. 1. 1. 1. 0. 0. 0. 1. 2. 2. 0. 0. 0. 0. 0.]\n",
      "L1010370\n",
      "[1, 0, 0, 1, 1, 2, 2, 2, 1, 1, 0, 1, 2, 2, 1, 0]\n",
      "[1. 0. 0. 3. 1. 0. 2. 2. 1. 1. 0. 1. 2. 2. 1. 0.]\n",
      "L1010373\n",
      "[0, 1, 0, 0, 0, 0, 0, 1, 0, 1, 0, 0, 0, 0, 0, 0]\n",
      "[0. 1. 0. 0. 0. 0. 0. 1. 0. 1. 0. 0. 0. 0. 0. 0.]\n",
      "L1010375\n",
      "[0, 0, 0, 0, 0, 0, 0, 0, 0, 1, 2, 1, 0, 0, 0, 0]\n",
      "[0. 0. 0. 0. 0. 0. 0. 0. 0. 1. 2. 0. 0. 0. 0. 1.]\n",
      "L1010377\n",
      "[0, 0, 0, 1, 0, 0, 0, 1, 0, 0, 0, 0, 1, 1, 0, 0]\n",
      "[0. 0. 0. 1. 0. 0. 0. 1. 0. 0. 0. 0. 1. 1. 0. 0.]\n",
      "L1010378\n",
      "[0, 0, 3, 1, 0, 0, 0, 0, 0, 0, 0, 0, 0, 1, 0, 0]\n",
      "[0. 0. 3. 1. 0. 0. 0. 0. 0. 0. 0. 0. 0. 1. 0. 0.]\n",
      "L1010382\n",
      "[1, 0, 0, 0, 0, 0, 0, 0, 0, 0, 0, 0, 0, 0, 0, 0]\n",
      "[1. 0. 0. 0. 0. 0. 0. 0. 0. 0. 0. 0. 0. 0. 0. 0.]\n",
      "L1010383\n",
      "[0, 0, 1, 0, 0, 1, 1, 0, 0, 0, 1, 0, 0, 0, 1, 0]\n",
      "[0. 0. 1. 0. 1. 0. 1. 0. 0. 0. 1. 0. 0. 0. 1. 0.]\n",
      "L1010388\n",
      "[2, 0, 0, 0, 1, 0, 0, 0, 0, 0, 0, 1, 0, 0, 0, 0]\n",
      "[2. 0. 0. 0. 1. 0. 0. 0. 0. 0. 0. 1. 0. 0. 0. 0.]\n",
      "L1010390\n",
      "[0, 0, 0, 1, 0, 0, 0, 0, 0, 1, 0, 1, 1, 0, 0, 0]\n",
      "[0. 0. 0. 1. 0. 0. 0. 0. 0. 1. 0. 1. 1. 0. 0. 0.]\n",
      "L1010391\n",
      "[0, 1, 0, 0, 0, 0, 0, 1, 0, 0, 1, 0, 0, 0, 0, 0]\n",
      "[0. 1. 0. 0. 0. 0. 0. 1. 0. 0. 1. 0. 0. 0. 0. 0.]\n",
      "L1010395\n",
      "[0, 0, 0, 1, 0, 0, 0, 0, 0, 1, 0, 0, 1, 0, 1, 0]\n",
      "[0. 0. 0. 0. 0. 0. 0. 0. 0. 1. 1. 0. 1. 0. 1. 0.]\n",
      "L1010405\n",
      "[0, 0, 0, 0, 0, 0, 0, 1, 0, 2, 0, 0, 0, 0, 0, 1]\n",
      "[0. 0. 0. 0. 0. 0. 0. 1. 0. 2. 0. 0. 0. 0. 0. 1.]\n",
      "L1010406\n",
      "[0, 0, 1, 0, 0, 0, 0, 0, 0, 0, 1, 0, 2, 0, 0, 1]\n",
      "[0. 0. 1. 0. 0. 0. 0. 0. 0. 0. 1. 0. 2. 0. 0. 1.]\n",
      "L1010408\n",
      "[1, 0, 0, 0, 0, 0, 0, 0, 0, 0, 0, 0, 0, 0, 0, 1]\n",
      "[1. 0. 0. 0. 0. 0. 0. 0. 0. 0. 0. 0. 0. 0. 0. 1.]\n",
      "L1010410\n",
      "[0, 0, 0, 1, 0, 0, 0, 0, 0, 0, 0, 1, 0, 0, 0, 1]\n",
      "[0. 0. 0. 1. 0. 0. 0. 0. 0. 0. 0. 1. 0. 0. 0. 1.]\n",
      "L1010413\n",
      "[1, 0, 0, 0, 0, 0, 0, 0, 0, 1, 0, 0, 0, 0, 0, 2]\n",
      "[0. 1. 0. 0. 0. 0. 0. 0. 0. 1. 0. 0. 0. 0. 0. 2.]\n",
      "L1010418\n",
      "[0, 0, 0, 0, 0, 0, 0, 0, 0, 0, 1, 0, 0, 0, 0, 1]\n",
      "[0. 0. 0. 0. 0. 0. 0. 0. 0. 0. 1. 0. 0. 0. 0. 1.]\n",
      "L1010419\n",
      "[0, 0, 0, 0, 0, 0, 0, 1, 0, 0, 0, 0, 0, 0, 0, 2]\n",
      "[0. 0. 0. 0. 0. 0. 0. 1. 0. 0. 0. 0. 0. 0. 0. 2.]\n",
      "L1010421\n",
      "[0, 0, 1, 0, 0, 0, 0, 0, 0, 0, 1, 1, 0, 0, 0, 1]\n",
      "[0. 0. 1. 0. 0. 0. 0. 0. 0. 0. 1. 1. 0. 0. 0. 1.]\n",
      "L1010422\n",
      "[0, 0, 0, 0, 0, 0, 0, 0, 0, 1, 0, 0, 0, 0, 0, 2]\n",
      "[0. 0. 0. 0. 0. 0. 0. 0. 0. 1. 0. 0. 0. 0. 0. 2.]\n",
      "L1010424\n",
      "[0, 0, 0, 1, 0, 1, 1, 0, 0, 0, 0, 1, 0, 0, 0, 1]\n",
      "[0. 0. 0. 1. 0. 1. 1. 0. 0. 0. 0. 1. 0. 0. 0. 1.]\n",
      "L1010434\n",
      "[1, 0, 0, 0, 1, 0, 0, 0, 0, 0, 0, 0, 0, 1, 0, 1]\n",
      "[1. 0. 0. 0. 1. 0. 0. 0. 0. 0. 0. 0. 0. 1. 0. 1.]\n",
      "L1010436\n",
      "[0, 0, 0, 0, 0, 0, 0, 0, 0, 0, 0, 0, 0, 0, 0, 1]\n",
      "[0. 0. 0. 0. 0. 0. 0. 0. 0. 0. 0. 0. 0. 0. 0. 1.]\n",
      "L1010440\n",
      "[0, 2, 0, 0, 0, 0, 1, 0, 0, 1, 1, 0, 1, 0, 1, 1]\n",
      "[0. 2. 0. 0. 0. 0. 1. 0. 0. 1. 1. 0. 1. 0. 1. 1.]\n",
      "L1010445\n",
      "[0, 0, 0, 0, 0, 0, 0, 0, 0, 0, 0, 0, 0, 0, 1, 2]\n",
      "[0. 0. 0. 0. 0. 0. 0. 0. 0. 0. 0. 0. 0. 0. 1. 2.]\n",
      "L1010446\n",
      "[0, 1, 0, 0, 0, 1, 0, 0, 0, 0, 0, 0, 0, 1, 0, 2]\n",
      "[1. 1. 0. 0. 0. 1. 0. 0. 0. 0. 0. 0. 0. 1. 0. 1.]\n",
      "L1010450\n",
      "[0, 0, 0, 0, 0, 0, 0, 0, 0, 0, 2, 0, 1, 0, 0, 2]\n",
      "[0. 0. 0. 0. 0. 0. 0. 0. 0. 0. 1. 1. 1. 0. 0. 2.]\n",
      "L1010454\n",
      "[0, 0, 0, 0, 0, 0, 0, 0, 0, 0, 0, 0, 0, 0, 0, 2]\n",
      "[0. 0. 0. 0. 0. 0. 0. 0. 0. 0. 0. 0. 0. 0. 0. 2.]\n",
      "L1010462\n",
      "[0, 0, 0, 0, 0, 0, 0, 1, 0, 1, 0, 0, 0, 0, 0, 2]\n",
      "[0. 0. 0. 1. 0. 0. 0. 1. 0. 1. 0. 0. 0. 0. 0. 1.]\n",
      "L1010468\n",
      "[0, 0, 0, 0, 0, 0, 0, 0, 0, 0, 0, 0, 0, 0, 0, 1]\n",
      "[0. 0. 0. 0. 0. 0. 0. 0. 0. 0. 0. 0. 0. 0. 0. 1.]\n",
      "L1010470\n",
      "[1, 0, 0, 0, 0, 1, 0, 0, 0, 0, 0, 0, 0, 1, 0, 1]\n",
      "[1. 0. 0. 1. 0. 0. 0. 0. 0. 0. 0. 0. 0. 1. 0. 1.]\n",
      "L1010475\n",
      "[2, 0, 0, 0, 0, 0, 0, 0, 0, 0, 0, 0, 0, 0, 0, 1]\n",
      "[2. 0. 0. 0. 0. 0. 0. 0. 0. 0. 0. 0. 0. 0. 0. 1.]\n",
      "L1010476\n",
      "[0, 1, 0, 1, 0, 0, 0, 0, 1, 1, 0, 0, 1, 0, 1, 1]\n",
      "[0. 1. 0. 1. 0. 0. 0. 0. 1. 1. 0. 0. 1. 0. 1. 1.]\n",
      "L1010477\n",
      "[0, 1, 1, 0, 0, 0, 1, 0, 0, 0, 0, 0, 0, 1, 0, 1]\n",
      "[0. 0. 1. 0. 1. 0. 1. 0. 0. 0. 0. 0. 0. 1. 0. 1.]\n",
      "L1010478\n",
      "[0, 1, 0, 0, 0, 0, 0, 1, 0, 0, 0, 0, 1, 1, 0, 1]\n",
      "[0. 1. 0. 0. 0. 0. 0. 1. 0. 0. 0. 0. 1. 1. 0. 1.]\n",
      "L1010479\n",
      "[0, 1, 1, 0, 0, 0, 1, 0, 0, 1, 0, 0, 0, 0, 0, 1]\n",
      "[0. 1. 0. 1. 1. 0. 0. 0. 0. 1. 0. 0. 0. 0. 0. 1.]\n",
      "L1010483\n",
      "[1, 0, 0, 0, 0, 0, 0, 0, 0, 0, 0, 2, 0, 0, 0, 1]\n",
      "[1. 0. 0. 0. 0. 0. 0. 0. 0. 0. 0. 2. 0. 0. 0. 1.]\n",
      "L1010485\n",
      "[0, 0, 1, 0, 0, 1, 0, 0, 0, 0, 0, 0, 0, 1, 0, 1]\n",
      "[0. 0. 1. 1. 0. 0. 0. 0. 0. 0. 0. 0. 0. 1. 0. 1.]\n",
      "L1010486\n",
      "[1, 0, 0, 1, 0, 0, 0, 1, 0, 0, 0, 1, 1, 0, 0, 1]\n",
      "[1. 1. 0. 1. 0. 0. 0. 1. 0. 0. 0. 1. 1. 0. 0. 0.]\n",
      "L1010487\n",
      "[1, 0, 0, 0, 0, 0, 0, 2, 0, 1, 0, 0, 0, 0, 0, 1]\n",
      "[1. 0. 0. 0. 1. 0. 0. 1. 0. 1. 0. 0. 0. 0. 0. 1.]\n",
      "L1010491\n",
      "[2, 0, 0, 0, 0, 0, 0, 2, 0, 1, 0, 0, 0, 1, 0, 2]\n",
      "[2. 0. 0. 0. 0. 0. 0. 2. 0. 1. 0. 0. 0. 1. 0. 2.]\n",
      "L1010500\n",
      "[0, 0, 1, 0, 1, 0, 0, 0, 0, 0, 1, 0, 0, 0, 2, 1]\n",
      "[0. 0. 1. 0. 1. 0. 0. 0. 0. 0. 1. 0. 0. 1. 1. 1.]\n",
      "L1010501\n",
      "[0, 0, 0, 0, 0, 0, 0, 0, 0, 0, 0, 0, 0, 0, 0, 1]\n",
      "[0. 0. 0. 0. 0. 0. 0. 0. 0. 0. 0. 0. 0. 0. 0. 1.]\n",
      "L1010503\n",
      "[0, 0, 0, 0, 0, 0, 0, 0, 0, 0, 0, 0, 3, 2, 0, 1]\n",
      "[0. 0. 0. 0. 0. 0. 0. 0. 0. 0. 0. 0. 2. 3. 0. 1.]\n",
      "L1010506\n",
      "[1, 0, 0, 0, 0, 0, 0, 0, 0, 0, 0, 0, 0, 1, 0, 1]\n",
      "[1. 0. 0. 0. 0. 0. 0. 0. 0. 0. 0. 0. 0. 1. 0. 1.]\n",
      "L1010510\n",
      "[0, 0, 0, 0, 0, 0, 0, 1, 0, 0, 1, 0, 0, 0, 0, 1]\n",
      "[0. 0. 0. 0. 0. 0. 0. 1. 0. 0. 1. 0. 0. 0. 0. 1.]\n",
      "L1010515\n",
      "[0, 0, 0, 0, 0, 1, 0, 1, 0, 0, 0, 0, 0, 0, 0, 1]\n",
      "[0. 0. 0. 1. 0. 0. 0. 1. 0. 0. 0. 0. 0. 0. 0. 1.]\n",
      "L1010517\n",
      "[1, 0, 0, 0, 0, 0, 0, 1, 0, 0, 0, 0, 0, 0, 0, 1]\n",
      "[1. 0. 0. 0. 0. 0. 0. 1. 0. 0. 0. 0. 0. 0. 0. 1.]\n",
      "L1010521\n",
      "[1, 0, 0, 0, 0, 0, 0, 1, 0, 0, 0, 0, 0, 0, 0, 1]\n",
      "[1. 0. 0. 0. 0. 0. 0. 1. 0. 0. 0. 0. 0. 0. 0. 1.]\n",
      "L1010523\n",
      "[0, 0, 0, 0, 0, 0, 0, 1, 1, 0, 0, 0, 0, 0, 0, 1]\n",
      "[0. 0. 0. 0. 0. 0. 0. 1. 1. 0. 0. 0. 0. 0. 0. 1.]\n",
      "L1010524\n",
      "[1, 0, 0, 0, 0, 0, 0, 0, 0, 1, 0, 0, 0, 0, 0, 1]\n",
      "[1. 0. 0. 0. 0. 0. 0. 0. 0. 1. 0. 0. 0. 0. 0. 1.]\n",
      "Total accuracy: 95.22%\n",
      "F1 score: 0.9165\n"
     ]
    }
   ],
   "source": [
    "# Initialize variables to store total correct predictions and total elements\n",
    "total_correct = 0\n",
    "total_elements = 0\n",
    "all_true_labels = []\n",
    "all_pred_labels = []\n",
    "\n",
    "# Iterate over each key in subclasses\n",
    "for key in subclasses.keys():\n",
    "    # Extract the row values from the DataFrame\n",
    "    row_values = df.loc[df['id'] == key].iloc[0, 1:17].tolist()\n",
    "\n",
    "    # Count the number of element-wise equal elements\n",
    "    equal_count = sum(1 for x, y in zip(row_values, subclasses[key]) if x == y)\n",
    "\n",
    "    # Increment total correct and total elements\n",
    "    total_correct += equal_count\n",
    "    total_elements += len(subclasses[key])\n",
    "\n",
    "    print(key)\n",
    "    print(row_values)\n",
    "    print(subclasses[key])\n",
    "\n",
    "    # Collect true labels and predicted labels for F1 score computation\n",
    "    all_true_labels.append(subclasses[key])\n",
    "    all_pred_labels.append(row_values)\n",
    "\n",
    "# Calculate total accuracy\n",
    "total_accuracy = (total_correct / total_elements) * 100\n",
    "\n",
    "# Compute F1 score using the custom function\n",
    "f1 = compute_f1(all_pred_labels, all_true_labels)\n",
    "\n",
    "print(f\"Total accuracy: {total_accuracy:.2f}%\")\n",
    "print(f\"F1 score: {f1:.4f}\")"
   ]
  },
  {
   "cell_type": "code",
   "execution_count": null,
   "outputs": [],
   "source": [],
   "metadata": {
    "collapsed": false
   }
  }
 ],
 "metadata": {
  "kernelspec": {
   "display_name": "iapr",
   "language": "python",
   "name": "python3"
  },
  "language_info": {
   "codemirror_mode": {
    "name": "ipython",
    "version": 3
   },
   "file_extension": ".py",
   "mimetype": "text/x-python",
   "name": "python",
   "nbconvert_exporter": "python",
   "pygments_lexer": "ipython3",
   "version": "3.9.18"
  }
 },
 "nbformat": 4,
 "nbformat_minor": 2
}
