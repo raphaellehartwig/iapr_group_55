{
 "cells": [
  {
   "cell_type": "markdown",
   "metadata": {},
   "source": [
    "## Classification part 2"
   ]
  },
  {
   "cell_type": "code",
   "execution_count": 108,
   "metadata": {},
   "outputs": [],
   "source": [
    "# Import main packages\n",
    "import matplotlib.pyplot as plt\n",
    "import numpy as np\n",
    "from PIL import Image\n",
    "import os\n",
    "from skimage.color import rgb2hsv\n",
    "from skimage.morphology import closing, opening, disk\n",
    "from skimage import io\n",
    "import cv2\n",
    "import numpy as np\n",
    "import matplotlib.pyplot as plt\n",
    "import os\n",
    "import glob"
   ]
  },
  {
   "cell_type": "code",
   "execution_count": 109,
   "metadata": {},
   "outputs": [],
   "source": [
    "# Define paths\n",
    "neutral_path = os.path.join(\"C:/Users/rapha/OneDrive/Documents/2. EPFL/Master/MA2/Image Analysis & Pattern Recognition/iapr24-coin-counter/train/1. neutral_bg\", \"L1010277.jpg\")\n",
    "noisy_path = os.path.join(\"C:/Users/rapha/OneDrive/Documents/2. EPFL/Master/MA2/Image Analysis & Pattern Recognition/iapr24-coin-counter/train/2. noisy_bg\", \"L1010325.jpg\")\n",
    "hand_path = os.path.join(\"C:/Users/rapha/OneDrive/Documents/2. EPFL/Master/MA2/Image Analysis & Pattern Recognition/iapr24-coin-counter/train/3. hand\", \"L1010373.jpg\")\n",
    "\n",
    "neutral_folder = os.path.join(\"C:/Users/rapha/OneDrive/Documents/2. EPFL/Master/MA2/Image Analysis & Pattern Recognition/iapr24-coin-counter/train/1. neutral_bg\")\n",
    "noisy_folder = os.path.join(\"C:/Users/rapha/OneDrive/Documents/2. EPFL/Master/MA2/Image Analysis & Pattern Recognition/iapr24-coin-counter/train/2. noisy_bg\")\n",
    "hand_folder = os.path.join(\"C:/Users/rapha/OneDrive/Documents/2. EPFL/Master/MA2/Image Analysis & Pattern Recognition/iapr24-coin-counter/train/3. hand\")\n",
    "\n",
    "neutral_test_folder = os.path.join(\"C:/Users/rapha/OneDrive/Documents/2. EPFL/Master/MA2/Image Analysis & Pattern Recognition/iapr24-coin-counter/combined_folders/Neutral\")\n",
    "noisy_test_folder = os.path.join(\"C:/Users/rapha/OneDrive/Documents/2. EPFL/Master/MA2/Image Analysis & Pattern Recognition/iapr24-coin-counter/combined_folders/Noisy\")\n",
    "hand_test_folder = os.path.join(\"C:/Users/rapha/OneDrive/Documents/2. EPFL/Master/MA2/Image Analysis & Pattern Recognition/iapr24-coin-counter/combined_folders/Hand\")"
   ]
  },
  {
   "cell_type": "markdown",
   "metadata": {},
   "source": [
    "## Classify CHF"
   ]
  },
  {
   "cell_type": "markdown",
   "metadata": {},
   "source": [
    "Goal: for each crop of CHF coin, classify into CHF subclass \n",
    "\n",
    "- Considère chaque pièce une à une indépendament de l'image de laquelle elle vient\n",
    "- Classifier sur l'aire/périmètre (nombre de pixels) et la couleur"
   ]
  },
  {
   "cell_type": "markdown",
   "metadata": {},
   "source": [
    "We use the segmentation function (here from neutral images) to obtain the circles from the segmented coins"
   ]
  },
  {
   "cell_type": "code",
   "execution_count": 110,
   "metadata": {},
   "outputs": [],
   "source": [
    "def detect_and_display_circles_neutral(image_path, display=False):\n",
    "    # Load the image\n",
    "    img = cv2.imread(image_path, cv2.IMREAD_COLOR)\n",
    "    if img is None:\n",
    "        print(\"Error: Image not found at\", image_path)\n",
    "        return None\n",
    "\n",
    "    # Convert to grayscale\n",
    "    gray = cv2.cvtColor(img, cv2.COLOR_BGR2GRAY)\n",
    "\n",
    "    # Apply Gaussian Blur\n",
    "    blur = cv2.GaussianBlur(gray, (9, 9), 2)\n",
    "\n",
    "    # Apply adaptive thresholding and morphological operations\n",
    "    img_th = cv2.adaptiveThreshold(blur, 255, cv2.ADAPTIVE_THRESH_GAUSSIAN_C, \n",
    "                                   cv2.THRESH_BINARY_INV, 11, 2)\n",
    "    kernel = np.ones((7, 7), np.uint8)\n",
    "    closing = cv2.morphologyEx(img_th, cv2.MORPH_CLOSE, kernel)\n",
    "    closing = cv2.dilate(closing, kernel, iterations=3)\n",
    "\n",
    "    # Hough Circle Transform\n",
    "    circles = cv2.HoughCircles(closing, cv2.HOUGH_GRADIENT, dp=1, minDist=100, \n",
    "                               param1=50, param2=10, minRadius=50, maxRadius=120)\n",
    "\n",
    "    if display:\n",
    "        plt.figure(figsize=(8, 8))\n",
    "        plt.imshow(cv2.cvtColor(img, cv2.COLOR_BGR2RGB))\n",
    "        if circles is not None:\n",
    "            circles_ = np.uint16(np.around(circles))[0, :]\n",
    "            for (x, y, r) in circles_:\n",
    "                plt.gca().add_patch(plt.Circle((x, y), r, color='red', fill=False, linewidth=2))\n",
    "        plt.title('Detected Circles in ' + os.path.basename(image_path))\n",
    "        plt.axis('off')\n",
    "        plt.show()\n",
    "    \n",
    "    if circles is not None:\n",
    "        return [(x, y, r) for (x, y, r) in np.uint16(np.around(circles))[0, :]]\n",
    "    else:\n",
    "        return []\n",
    "\n",
    "def crop_coins(image, circles):\n",
    "    cropped_images = []\n",
    "    for (x, y, r) in circles:\n",
    "        x, y, r = int(x), int(y), int(r)\n",
    "        cropped_img = image[y-r:y+r, x-r:x+r]\n",
    "        cropped_images.append(cropped_img)\n",
    "    return cropped_images\n",
    "\n",
    "def detect_and_crop_coins(image_path, image_type, display_cropped=False):\n",
    "    # Load the image\n",
    "    img = cv2.imread(image_path, cv2.IMREAD_COLOR)\n",
    "    if img is None:\n",
    "        print(\"Error: Image not found at\", image_path)\n",
    "        return None\n",
    "\n",
    "    # Call the appropriate detection function\n",
    "    if image_type == 'neutral':\n",
    "        circles = detect_and_display_circles_neutral(image_path, display=False)\n",
    "    #elif image_type == 'hand':\n",
    "    #    circles = detect_and_display_circles_hand(image_path, display=False)\n",
    "    else:\n",
    "        print(\"Error: Unknown image type\")\n",
    "        return None\n",
    "\n",
    "    if not circles:\n",
    "        print(\"No circles detected\")\n",
    "        return []\n",
    "\n",
    "    # Crop the detected coins\n",
    "    cropped_images = crop_coins(img, circles)\n",
    "\n",
    "    # Display cropped images if required\n",
    "    if display_cropped:\n",
    "        for i, cropped_img in enumerate(cropped_images):\n",
    "            plt.figure(figsize=(4, 4))\n",
    "            plt.imshow(cv2.cvtColor(cropped_img, cv2.COLOR_BGR2RGB))\n",
    "            plt.title(f'Cropped Coin {i+1}')\n",
    "            plt.axis('off')\n",
    "            plt.show()\n",
    "\n",
    "    return cropped_images, circles"
   ]
  },
  {
   "cell_type": "markdown",
   "metadata": {},
   "source": [
    "#### Downsample"
   ]
  },
  {
   "cell_type": "markdown",
   "metadata": {},
   "source": [
    "We work on downsampled images, make sure to use downsampled images"
   ]
  },
  {
   "cell_type": "code",
   "execution_count": 111,
   "metadata": {},
   "outputs": [],
   "source": [
    "import os\n",
    "from PIL import Image\n",
    "\n",
    "def downsample_images(file_path, save_path, size=(1500, 1000)):\n",
    "    im = Image.open(file_path)\n",
    "    downsampled_image = im.resize(size)  # Specify desired width and height\n",
    "\n",
    "    # Create the save directory if it does not exist\n",
    "    if not os.path.exists(save_path):\n",
    "        os.makedirs(save_path)\n",
    "    \n",
    "    # Construct the save path for the downsampled image\n",
    "    filename = os.path.basename(file_path)\n",
    "    downsampled_image_save_path = os.path.join(save_path, filename)\n",
    "    \n",
    "    # Save the downsampled image\n",
    "    downsampled_image.save(downsampled_image_save_path)\n",
    "\n",
    "def downsample_images_in_directory(input_directory, output_directory, size=(1500, 1000)):\n",
    "    # List all JPG images in the directory\n",
    "    images = glob.glob(os.path.join(input_directory, '*.JPG'))\n",
    "    \n",
    "    for image_path in images:\n",
    "        downsample_images(image_path, output_directory, size)\n",
    "        print(f\"Processed and saved: {os.path.basename(image_path)}\")\n",
    "\n",
    "# Example usage\n",
    "input_directory = \"C:/Users/rapha/OneDrive/Documents/2. EPFL/Master/MA2/Image Analysis & Pattern Recognition/iapr24-coin-counter/subtest\"\n",
    "output_directory = \"C:/Users/rapha/OneDrive/Documents/2. EPFL/Master/MA2/Image Analysis & Pattern Recognition/iapr24-coin-counter/subtest_downsampled\"\n",
    "#downsample_images_in_directory(input_directory, output_directory)\n"
   ]
  },
  {
   "cell_type": "code",
   "execution_count": 112,
   "metadata": {},
   "outputs": [],
   "source": [
    "cropped_images, circles = detect_and_crop_coins(\"C:/Users/rapha/OneDrive/Documents/2. EPFL/Master/MA2/Image Analysis & Pattern Recognition/iapr24-coin-counter/ref/_resized.JPG\", 'neutral')"
   ]
  },
  {
   "cell_type": "markdown",
   "metadata": {},
   "source": [
    "## Compute features"
   ]
  },
  {
   "cell_type": "markdown",
   "metadata": {},
   "source": [
    "Each detected circle is represented by three values: the x-coordinate of the center, the y-coordinate of the center, and the radius"
   ]
  },
  {
   "cell_type": "code",
   "execution_count": 113,
   "metadata": {},
   "outputs": [
    {
     "data": {
      "text/html": [
       "<div>\n",
       "<style scoped>\n",
       "    .dataframe tbody tr th:only-of-type {\n",
       "        vertical-align: middle;\n",
       "    }\n",
       "\n",
       "    .dataframe tbody tr th {\n",
       "        vertical-align: top;\n",
       "    }\n",
       "\n",
       "    .dataframe thead th {\n",
       "        text-align: right;\n",
       "    }\n",
       "</style>\n",
       "<table border=\"1\" class=\"dataframe\">\n",
       "  <thead>\n",
       "    <tr style=\"text-align: right;\">\n",
       "      <th></th>\n",
       "      <th>Perimeter</th>\n",
       "      <th>Area</th>\n",
       "    </tr>\n",
       "  </thead>\n",
       "  <tbody>\n",
       "    <tr>\n",
       "      <th>five_back</th>\n",
       "      <td>653.451272</td>\n",
       "      <td>33979.466141</td>\n",
       "    </tr>\n",
       "    <tr>\n",
       "      <th>five_front</th>\n",
       "      <td>647.168087</td>\n",
       "      <td>33329.156462</td>\n",
       "    </tr>\n",
       "    <tr>\n",
       "      <th>two_front</th>\n",
       "      <td>584.336234</td>\n",
       "      <td>27171.634861</td>\n",
       "    </tr>\n",
       "    <tr>\n",
       "      <th>one_back</th>\n",
       "      <td>508.938010</td>\n",
       "      <td>20611.989400</td>\n",
       "    </tr>\n",
       "    <tr>\n",
       "      <th>two_back</th>\n",
       "      <td>590.619419</td>\n",
       "      <td>27759.112687</td>\n",
       "    </tr>\n",
       "    <tr>\n",
       "      <th>twenty_back</th>\n",
       "      <td>471.238898</td>\n",
       "      <td>17671.458676</td>\n",
       "    </tr>\n",
       "    <tr>\n",
       "      <th>twenty_front</th>\n",
       "      <td>471.238898</td>\n",
       "      <td>17671.458676</td>\n",
       "    </tr>\n",
       "    <tr>\n",
       "      <th>one_front</th>\n",
       "      <td>496.371639</td>\n",
       "      <td>19606.679751</td>\n",
       "    </tr>\n",
       "    <tr>\n",
       "      <th>fifty_back</th>\n",
       "      <td>414.690230</td>\n",
       "      <td>13684.777599</td>\n",
       "    </tr>\n",
       "    <tr>\n",
       "      <th>five_cents_back</th>\n",
       "      <td>402.123860</td>\n",
       "      <td>12867.963509</td>\n",
       "    </tr>\n",
       "    <tr>\n",
       "      <th>fifty_front</th>\n",
       "      <td>414.690230</td>\n",
       "      <td>13684.777599</td>\n",
       "    </tr>\n",
       "    <tr>\n",
       "      <th>ten_back</th>\n",
       "      <td>433.539786</td>\n",
       "      <td>14957.122624</td>\n",
       "    </tr>\n",
       "    <tr>\n",
       "      <th>ten_front</th>\n",
       "      <td>433.539786</td>\n",
       "      <td>14957.122624</td>\n",
       "    </tr>\n",
       "    <tr>\n",
       "      <th>five_cents_front</th>\n",
       "      <td>389.557489</td>\n",
       "      <td>12076.282160</td>\n",
       "    </tr>\n",
       "  </tbody>\n",
       "</table>\n",
       "</div>"
      ],
      "text/plain": [
       "                   Perimeter          Area\n",
       "five_back         653.451272  33979.466141\n",
       "five_front        647.168087  33329.156462\n",
       "two_front         584.336234  27171.634861\n",
       "one_back          508.938010  20611.989400\n",
       "two_back          590.619419  27759.112687\n",
       "twenty_back       471.238898  17671.458676\n",
       "twenty_front      471.238898  17671.458676\n",
       "one_front         496.371639  19606.679751\n",
       "fifty_back        414.690230  13684.777599\n",
       "five_cents_back   402.123860  12867.963509\n",
       "fifty_front       414.690230  13684.777599\n",
       "ten_back          433.539786  14957.122624\n",
       "ten_front         433.539786  14957.122624\n",
       "five_cents_front  389.557489  12076.282160"
      ]
     },
     "execution_count": 113,
     "metadata": {},
     "output_type": "execute_result"
    }
   ],
   "source": [
    "import numpy as np\n",
    "import pandas as pd \n",
    "\n",
    "def calculate_circle_properties(circles):\n",
    "    \"\"\"\n",
    "    Calculate the perimeter and area of circles from the given circles array.\n",
    "\n",
    "    Parameters:\n",
    "    circles (numpy array): Array of detected circles with shape (1, N, 3), where each circle is represented by (x, y, radius).\n",
    "\n",
    "    Returns:\n",
    "    list of tuples: Each tuple contains (perimeter, area) for each circle.\n",
    "    \"\"\"\n",
    "    if circles is None:\n",
    "        return []\n",
    "    \n",
    "    properties = []\n",
    "    \n",
    "    for (x, y, r) in circles:\n",
    "        perimeter = 2 * np.pi * r\n",
    "        area = np.pi * r ** 2\n",
    "        properties.append((perimeter, area))\n",
    "    \n",
    "    return properties\n",
    "\n",
    "# Assume `circles` is already defined and contains the detected circles\n",
    "properties = calculate_circle_properties(circles)\n",
    "\n",
    "# Creating a DataFrame\n",
    "labels_ref_image = [\"five_back\", \"five_front\", \"two_front\", \"one_back\", \"two_back\", \"twenty_back\", \"twenty_front\", \"one_front\", \"fifty_back\", \"five_cents_back\", \"fifty_front\", \"ten_back\", \"ten_front\", \"five_cents_front\"]\n",
    "df = pd.DataFrame(properties, columns=['Perimeter', 'Area'], index=labels_ref_image)\n",
    "df"
   ]
  },
  {
   "cell_type": "markdown",
   "metadata": {},
   "source": [
    "## Thresholds"
   ]
  },
  {
   "cell_type": "markdown",
   "metadata": {},
   "source": [
    "Perim: 600, 550, 480, 450, 420, 410\n",
    "Area: 30000, 2500, 1800, 1600, 1400, 1300"
   ]
  },
  {
   "cell_type": "markdown",
   "metadata": {},
   "source": [
    "five:\n",
    "- perimeter: 647-653\n",
    "- area: 33329-33979\n",
    "Perimeter > 600\n",
    "Area > 30000\n",
    "\n",
    "two:\n",
    "- perimeter: 584-590\n",
    "- area: 27171-27759\n",
    "Perimeter < 600 & > 550\n",
    "Area < 30000 & > 2500\n",
    "\n",
    "one:\n",
    "- perimeter: 496-508\n",
    "- area: 19606-20611\n",
    "Perimeter < 550 & > 480\n",
    "Area < 2500 & > 1800\n",
    "\n",
    "twenty:\n",
    "- perimeter: 471\n",
    "- area: 17671\n",
    "Perimeter < 480 & > 450\n",
    "Area < 1800 & > 1600\n",
    "\n",
    "ten:\n",
    "- perimeter: 433\n",
    "- area: 14957\n",
    "Perimeter < 450 & > 420\n",
    "Area < \n",
    "\n",
    "fifty: \n",
    "- perimeter: 414\n",
    "- area: 13684\n",
    "\n",
    "five_cents:\n",
    "- perimeter: 389-402\n",
    "- area: 12076-12868"
   ]
  },
  {
   "cell_type": "markdown",
   "metadata": {},
   "source": [
    "## Folder"
   ]
  },
  {
   "cell_type": "markdown",
   "metadata": {},
   "source": [
    "Iterate over whole folder of neutral images: \n",
    "- compute perimeter and area, plot mean/min/max to see if can obtain threshold"
   ]
  },
  {
   "cell_type": "code",
   "execution_count": 114,
   "metadata": {},
   "outputs": [],
   "source": [
    "def process_images_in_directory(directory_path, image_type, display_cropped=False):\n",
    "    if image_type == 'neutral':\n",
    "        detect_and_display_circles = detect_and_display_circles_neutral\n",
    "    else:\n",
    "        print(\"Error: Unknown image type\")\n",
    "        return\n",
    "\n",
    "    # Initialize lists to store perimeters and areas\n",
    "    perimeters_list = []\n",
    "    areas_list = []\n",
    "\n",
    "    # List all jpg images in the directory\n",
    "    images = glob.glob(os.path.join(directory_path, '*.JPG'))\n",
    "    for image_path in images:\n",
    "        circles = detect_and_display_circles(image_path, display=False)\n",
    "        if circles:\n",
    "            print(f\"Detected circles in {os.path.basename(image_path)}: {circles}\")\n",
    "            img = cv2.imread(image_path, cv2.IMREAD_COLOR)\n",
    "            cropped_images = crop_coins(img, circles)\n",
    "\n",
    "            # Return table of perimeter and area of circles found in the image\n",
    "            properties = calculate_circle_properties(circles)\n",
    "\n",
    "            # Append the properties to the lists\n",
    "            for perimeter, area in properties:\n",
    "                perimeters_list.append(perimeter)\n",
    "                areas_list.append(area)\n",
    "\n",
    "            if display_cropped:\n",
    "                for i, cropped_img in enumerate(cropped_images):\n",
    "                    plt.figure(figsize=(4, 4))\n",
    "                    plt.imshow(cv2.cvtColor(cropped_img, cv2.COLOR_BGR2RGB))\n",
    "                    plt.title(f'Cropped Coin {i+1}')\n",
    "                    plt.axis('off')\n",
    "                    plt.show()\n",
    "        else:\n",
    "            print(f\"No circles detected in {os.path.basename(image_path)}\")\n",
    "\n",
    "    return perimeters_list, areas_list"
   ]
  },
  {
   "cell_type": "code",
   "execution_count": 115,
   "metadata": {},
   "outputs": [
    {
     "name": "stdout",
     "output_type": "stream",
     "text": [
      "Detected circles in L0000001.JPG: [(956, 680, 81), (370, 458, 75), (942, 372, 82), (776, 466, 83), (548, 378, 92), (494, 664, 79), (810, 784, 75), (1056, 524, 75), (666, 828, 65), (706, 638, 64)]\n",
      "Detected circles in L0000003.JPG: [(770, 436, 91), (956, 332, 66), (838, 262, 70), (688, 734, 86), (730, 600, 67), (654, 352, 66), (936, 524, 62), (588, 504, 68)]\n",
      "Detected circles in L0000004.JPG: [(618, 348, 80), (280, 326, 74), (348, 738, 80), (362, 516, 66), (880, 336, 69), (862, 610, 66)]\n"
     ]
    }
   ],
   "source": [
    "neutral_test_folder = os.path.join(\"C:/Users/rapha/OneDrive/Documents/2. EPFL/Master/MA2/Image Analysis & Pattern Recognition/iapr24-coin-counter/combined_folders/Neutral\")\n",
    "\n",
    "subtest = \"C:/Users/rapha/OneDrive/Documents/2. EPFL/Master/MA2/Image Analysis & Pattern Recognition/iapr24-coin-counter/subtest_downsampled\"\n",
    "perimeters_list, areas_list = process_images_in_directory(subtest, 'neutral')"
   ]
  },
  {
   "cell_type": "markdown",
   "metadata": {},
   "source": [
    "## Plot features"
   ]
  },
  {
   "cell_type": "code",
   "execution_count": 116,
   "metadata": {},
   "outputs": [
    {
     "data": {
      "image/png": "[encoded data removed]",
      "text/plain": [
       "<Figure size 1200x1000 with 2 Axes>"
      ]
     },
     "metadata": {},
     "output_type": "display_data"
    }
   ],
   "source": [
    "import numpy as np\n",
    "import matplotlib.pyplot as plt\n",
    "import pandas as pd\n",
    "\n",
    "def plot_perimeter_area(labels_, perimeters_list, areas_list):\n",
    "    # Assuming that the length of perimeters_list and areas_list matches the length of labels_\n",
    "    data = {\n",
    "        'Label': labels_,\n",
    "        'Perimeter': perimeters_list,\n",
    "        'Area': areas_list\n",
    "    }\n",
    "\n",
    "    df = pd.DataFrame(data)\n",
    "\n",
    "    # Filter out \"e\" and \"ood\" labels\n",
    "    df = df[~df['Label'].isin(['e', 'ood'])]\n",
    "\n",
    "    # Calculate mean, min, max for each label\n",
    "    grouped = df.groupby('Label').agg({\n",
    "        'Perimeter': ['mean', 'min', 'max'],\n",
    "        'Area': ['mean', 'min', 'max']\n",
    "    }).reset_index()\n",
    "\n",
    "    # Plotting\n",
    "    fig, axes = plt.subplots(2, 1, figsize=(12, 10))\n",
    "\n",
    "    # Plot Perimeter statistics\n",
    "    grouped_perimeter = grouped['Perimeter']\n",
    "    labels = grouped['Label']\n",
    "\n",
    "    x = np.arange(len(labels))  # the label locations\n",
    "    width = 0.25  # the width of the bars\n",
    "\n",
    "    axes[0].bar(x - width, grouped_perimeter['mean'], width, label='Mean')\n",
    "    axes[0].bar(x, grouped_perimeter['min'], width, label='Min')\n",
    "    axes[0].bar(x + width, grouped_perimeter['max'], width, label='Max')\n",
    "\n",
    "    axes[0].set_ylabel('Perimeter')\n",
    "    axes[0].set_title('Perimeter statistics by class')\n",
    "    axes[0].set_xticks(x)\n",
    "    axes[0].set_xticklabels(labels)\n",
    "    axes[0].legend()\n",
    "\n",
    "    # Add dotted lines for Perimeter\n",
    "    perim_values = [600, 550, 480, 450, 420, 410]\n",
    "    for value in perim_values:\n",
    "        axes[0].axhline(y=value, color='b', linestyle=':', label=f'Perim: {value}')\n",
    "    \n",
    "    # Plot Area statistics\n",
    "    grouped_area = grouped['Area']\n",
    "\n",
    "    axes[1].bar(x - width, grouped_area['mean'], width, label='Mean')\n",
    "    axes[1].bar(x, grouped_area['min'], width, label='Min')\n",
    "    axes[1].bar(x + width, grouped_area['max'], width, label='Max')\n",
    "\n",
    "    axes[1].set_ylabel('Area')\n",
    "    axes[1].set_title('Area statistics by class')\n",
    "    axes[1].set_xticks(x)\n",
    "    axes[1].set_xticklabels(labels)\n",
    "    axes[1].legend()\n",
    "\n",
    "    # Add dotted lines for Area\n",
    "    area_values = [30000, 25000, 18000, 16000, 14000, 13000]\n",
    "    for value in area_values:\n",
    "        axes[1].axhline(y=value, color='b', linestyle=':', label=f'Area: {value}')\n",
    "\n",
    "    plt.tight_layout()\n",
    "    plt.show()\n",
    "\n",
    "# Example usage\n",
    "labels_subtest = [\n",
    "    \"1\", \"0.2\", \"e\", \"e\", \"2\", \"e\", \"e\", \"0.2\", \"0.5\", \"5\",\n",
    "    \"ood\", \"0.5\", \"e\", \"e\", \"0.5\", \"e\", \"5\", \"0.1\",\n",
    "    \"e\", \"0.2\", \"1\", \"e\", \"0.1\", \"0.5\"\n",
    "]\n",
    "\n",
    "plot_perimeter_area(labels_subtest, perimeters_list, areas_list)\n"
   ]
  },
  {
   "cell_type": "markdown",
   "metadata": {},
   "source": [
    "## Classify"
   ]
  },
  {
   "cell_type": "markdown",
   "metadata": {},
   "source": [
    "Now that we checked the approximative thresholds of a subset of train images, can create a classifier with these thresholds and apply on train set\n",
    "\n",
    "We don't have the individual labels of the train set !"
   ]
  },
  {
   "cell_type": "markdown",
   "metadata": {},
   "source": [
    "Classifier:\n",
    "- separate 5, 2, 1 using area\n",
    "- separate 5 by color\n",
    "- separate 20, 10, 50 using perim and area again (try)"
   ]
  },
  {
   "cell_type": "code",
   "execution_count": 117,
   "metadata": {},
   "outputs": [],
   "source": [
    "def classify_area(area):\n",
    "    if area > 30000:\n",
    "        return 5\n",
    "    elif area > 25000:\n",
    "        return 2\n",
    "    elif area > 18000:\n",
    "        return 1\n",
    "    elif area > 16000:\n",
    "        return 0.2\n",
    "    elif area > 14000:\n",
    "        return 0.1\n",
    "    elif area > 13000:\n",
    "        return 0.5\n",
    "    else:\n",
    "        return 0.05\n"
   ]
  },
  {
   "cell_type": "markdown",
   "metadata": {},
   "source": [
    "Here we need to classify in EUR or CHF before applying (these images contain both for now)"
   ]
  },
  {
   "cell_type": "code",
   "execution_count": 118,
   "metadata": {},
   "outputs": [
    {
     "name": "stdout",
     "output_type": "stream",
     "text": [
      "Detected circles in L0000001.JPG: [(956, 680, 81), (370, 458, 75), (942, 372, 82), (776, 466, 83), (548, 378, 92), (494, 664, 79), (810, 784, 75), (1056, 524, 75), (666, 828, 65), (706, 638, 64)]\n",
      "Detected circles in L0000003.JPG: [(770, 436, 91), (956, 332, 66), (838, 262, 70), (688, 734, 86), (730, 600, 67), (654, 352, 66), (936, 524, 62), (588, 504, 68)]\n",
      "Detected circles in L0000004.JPG: [(618, 348, 80), (280, 326, 74), (348, 738, 80), (362, 516, 66), (880, 336, 69), (862, 610, 66)]\n",
      "Accuracy: 12.50%\n"
     ]
    }
   ],
   "source": [
    "subtest = \"C:/Users/rapha/OneDrive/Documents/2. EPFL/Master/MA2/Image Analysis & Pattern Recognition/iapr24-coin-counter/subtest_downsampled\"\n",
    "perimeters_list, areas_list = process_images_in_directory(subtest, 'neutral')\n",
    "\n",
    "# True labels\n",
    "true_labels = [\n",
    "    5, 2, 0.05, 5, 2, 0.05, 0.05, 5, 5, 0.5,\n",
    "    0.05, 5, 0.05, 0.05, 5, 0.05, 0.5, 0.1,\n",
    "    0.05, 5, 5, 0.05, 0.1, 5\n",
    "]\n",
    "\n",
    "# Classified labels\n",
    "classified_labels = [classify_area(area) for area in areas_list]\n",
    "\n",
    "# Compute accuracy\n",
    "accuracy = sum(1 for true_label, classified_label in zip(true_labels, classified_labels) if true_label == classified_label) / len(true_labels)\n",
    "\n",
    "print(f\"Accuracy: {accuracy * 100:.2f}%\")\n"
   ]
  }
 ],
 "metadata": {
  "kernelspec": {
   "display_name": "iapr",
   "language": "python",
   "name": "python3"
  },
  "language_info": {
   "codemirror_mode": {
    "name": "ipython",
    "version": 3
   },
   "file_extension": ".py",
   "mimetype": "text/x-python",
   "name": "python",
   "nbconvert_exporter": "python",
   "pygments_lexer": "ipython3",
   "version": "3.9.18"
  }
 },
 "nbformat": 4,
 "nbformat_minor": 2
}
